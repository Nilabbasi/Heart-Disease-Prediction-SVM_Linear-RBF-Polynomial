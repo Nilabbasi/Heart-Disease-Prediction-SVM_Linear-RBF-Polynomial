{
  "cells": [
    {
      "cell_type": "markdown",
      "metadata": {
        "id": "no5hok6fOVXe"
      },
      "source": [
        "---------------------------------------------------\n",
        "### ***Niloufar Abbasi***\n",
        "\n",
        "***Deep Learning Course***\n",
        "\n",
        "--------------------------------------------------"
      ]
    },
    {
      "cell_type": "markdown",
      "metadata": {
        "id": "mrxRhRoMO3NR"
      },
      "source": [
        "## Overview:\n",
        "\n",
        "In this task, we aim to determine whether individuals are at risk of heart disease based on a set of features related to various heart conditions, using the **Support Vector Machine (SVM)** algorithm.\n",
        "\n",
        "Support Vector Machines (SVM) are powerful supervised learning algorithms that excel in classification tasks, particularly in scenarios where the data is high-dimensional and complex. By finding the optimal hyperplane that separates different classes in the feature space, SVMs can effectively handle both linear and non-linear relationships within the data. This makes them particularly suited for medical diagnosis applications, such as predicting heart disease, where distinguishing between healthy and at-risk patients is crucial.\n",
        "\n",
        "We begin by familiarizing ourselves with the dataset through its description file. The first step includes adding a summary of the dataset to this file. Following this, we visualize the information by plotting relevant graphs.\n",
        "\n",
        "For clarity, each section of the code is explained through in-line comments within the code cells and markdowns outside the cells."
      ]
    },
    {
      "cell_type": "markdown",
      "metadata": {
        "id": "wQMX49H3SXiY"
      },
      "source": [
        "---\n",
        "\n",
        "# **Dataset description** :\n",
        "\n",
        "Supervised machine learning algorithms operate on a dataset that is a collection of labeled examples\n",
        "which consist of features and a label i.e. in our case target is a label and other columns are features, and\n",
        "each row is an example.\n",
        "This dataset consists of 11 features and a target variable. It has 6 nominal variables and 5 numeric\n",
        "variables. The detailed description of all the features are as follows:\n",
        "\n",
        "1. **Age**: Patients Age in years (Numeric)\n",
        "2. **Sex**: Gender of patient (Male - 1, Female - 0) (Nominal)\n",
        "3. **Chest Pain Type**: Type of chest pain experienced by patient categorized into 1 typical, 2 typical\n",
        "angina, 3 non- anginal pain, 4 asymptomatic (Nominal)\n",
        "4. **resting BP**: Level of blood pressure at resting mode in mm/HG (Numerical)\n",
        "5. **cholestrol**: Serum cholestrol in mg/dl (Numeric)\n",
        "6. **fasting blood sugar**: Blood sugar levels on fasting > 120 mg/dl represents as 1 in case of true\n",
        "and 0 as false (Nominal)\n",
        "7. **resting ECG**: Result of electrocardiogram while at rest are represented in 3 distinct values 0 :\n",
        "Normal 1: Abnormality in ST-T wave 2: Left ventricular hypertrophy (Nominal)\n",
        "8. **max heart rate**: Maximum heart rate achieved (Numeric)\n",
        "9. **exercise angina**: Angina induced by exercise 0 depicting NO 1 depicting Yes (Nominal)\n",
        "10. **oldpeak**: Exercise induced ST-depression in comparison with the state of rest (Numeric)\n",
        "11. **ST slope**: ST segment measured in terms of slope during peak exercise 0: Normal 1: Upsloping 2: Flat 3: Downsloping (Nominal)\n",
        "\n",
        "\n",
        "Target variable:\n",
        "12. **target**: It is the target variable which we have to predict 1 means patient is suffering from heart risk and 0 means patient is normal.\n",
        "---"
      ]
    },
    {
      "cell_type": "markdown",
      "metadata": {
        "id": "YwdLJkl6Vm9z"
      },
      "source": [
        "### ***Required Libraries***"
      ]
    },
    {
      "cell_type": "code",
      "execution_count": null,
      "metadata": {
        "id": "_ORYO-GySXC5"
      },
      "outputs": [],
      "source": [
        "import numpy                 as np\n",
        "import pandas                as pd\n",
        "import matplotlib.pyplot     as plt\n",
        "import seaborn               as sns\n",
        "#--------------------------------------------------------\n",
        "from sklearn.model_selection import train_test_split\n",
        "from sklearn.preprocessing   import MinMaxScaler\n",
        "from sklearn.svm             import SVC\n",
        "from sklearn.metrics         import accuracy_score\n",
        "from sklearn.metrics         import confusion_matrix\n",
        "from sklearn.metrics         import precision_score\n",
        "from sklearn.metrics         import recall_score\n",
        "from sklearn.metrics         import f1_score\n",
        "#--------------------------------------------------------\n",
        "from scipy                   import stats\n",
        "from tabulate                import tabulate"
      ]
    },
    {
      "cell_type": "markdown",
      "metadata": {
        "id": "PSW6zCGmXJj2"
      },
      "source": [
        "### ***Loading Data***"
      ]
    },
    {
      "cell_type": "code",
      "execution_count": null,
      "metadata": {
        "colab": {
          "base_uri": "https://localhost:8080/",
          "height": 363
        },
        "id": "cc3K0Fg7OPzG",
        "outputId": "c9ee4f58-ca5a-4178-cd33-b1eb02f13310"
      },
      "outputs": [
        {
          "output_type": "execute_result",
          "data": {
            "text/plain": [
              "   age  sex  chest pain type  resting bp s  cholesterol  fasting blood sugar  \\\n",
              "0   40    1                2           140          289                    0   \n",
              "1   49    0                3           160          180                    0   \n",
              "2   37    1                2           130          283                    0   \n",
              "3   48    0                4           138          214                    0   \n",
              "4   54    1                3           150          195                    0   \n",
              "5   39    1                3           120          339                    0   \n",
              "6   45    0                2           130          237                    0   \n",
              "7   54    1                2           110          208                    0   \n",
              "8   37    1                4           140          207                    0   \n",
              "9   48    0                2           120          284                    0   \n",
              "\n",
              "   resting ecg  max heart rate  exercise angina  oldpeak  ST slope  target  \n",
              "0            0             172                0      0.0         1       0  \n",
              "1            0             156                0      1.0         2       1  \n",
              "2            1              98                0      0.0         1       0  \n",
              "3            0             108                1      1.5         2       1  \n",
              "4            0             122                0      0.0         1       0  \n",
              "5            0             170                0      0.0         1       0  \n",
              "6            0             170                0      0.0         1       0  \n",
              "7            0             142                0      0.0         1       0  \n",
              "8            0             130                1      1.5         2       1  \n",
              "9            0             120                0      0.0         1       0  "
            ],
            "text/html": [
              "\n",
              "  <div id=\"df-106cf10b-cc5d-4947-b98f-c7fc3933124d\" class=\"colab-df-container\">\n",
              "    <div>\n",
              "<style scoped>\n",
              "    .dataframe tbody tr th:only-of-type {\n",
              "        vertical-align: middle;\n",
              "    }\n",
              "\n",
              "    .dataframe tbody tr th {\n",
              "        vertical-align: top;\n",
              "    }\n",
              "\n",
              "    .dataframe thead th {\n",
              "        text-align: right;\n",
              "    }\n",
              "</style>\n",
              "<table border=\"1\" class=\"dataframe\">\n",
              "  <thead>\n",
              "    <tr style=\"text-align: right;\">\n",
              "      <th></th>\n",
              "      <th>age</th>\n",
              "      <th>sex</th>\n",
              "      <th>chest pain type</th>\n",
              "      <th>resting bp s</th>\n",
              "      <th>cholesterol</th>\n",
              "      <th>fasting blood sugar</th>\n",
              "      <th>resting ecg</th>\n",
              "      <th>max heart rate</th>\n",
              "      <th>exercise angina</th>\n",
              "      <th>oldpeak</th>\n",
              "      <th>ST slope</th>\n",
              "      <th>target</th>\n",
              "    </tr>\n",
              "  </thead>\n",
              "  <tbody>\n",
              "    <tr>\n",
              "      <th>0</th>\n",
              "      <td>40</td>\n",
              "      <td>1</td>\n",
              "      <td>2</td>\n",
              "      <td>140</td>\n",
              "      <td>289</td>\n",
              "      <td>0</td>\n",
              "      <td>0</td>\n",
              "      <td>172</td>\n",
              "      <td>0</td>\n",
              "      <td>0.0</td>\n",
              "      <td>1</td>\n",
              "      <td>0</td>\n",
              "    </tr>\n",
              "    <tr>\n",
              "      <th>1</th>\n",
              "      <td>49</td>\n",
              "      <td>0</td>\n",
              "      <td>3</td>\n",
              "      <td>160</td>\n",
              "      <td>180</td>\n",
              "      <td>0</td>\n",
              "      <td>0</td>\n",
              "      <td>156</td>\n",
              "      <td>0</td>\n",
              "      <td>1.0</td>\n",
              "      <td>2</td>\n",
              "      <td>1</td>\n",
              "    </tr>\n",
              "    <tr>\n",
              "      <th>2</th>\n",
              "      <td>37</td>\n",
              "      <td>1</td>\n",
              "      <td>2</td>\n",
              "      <td>130</td>\n",
              "      <td>283</td>\n",
              "      <td>0</td>\n",
              "      <td>1</td>\n",
              "      <td>98</td>\n",
              "      <td>0</td>\n",
              "      <td>0.0</td>\n",
              "      <td>1</td>\n",
              "      <td>0</td>\n",
              "    </tr>\n",
              "    <tr>\n",
              "      <th>3</th>\n",
              "      <td>48</td>\n",
              "      <td>0</td>\n",
              "      <td>4</td>\n",
              "      <td>138</td>\n",
              "      <td>214</td>\n",
              "      <td>0</td>\n",
              "      <td>0</td>\n",
              "      <td>108</td>\n",
              "      <td>1</td>\n",
              "      <td>1.5</td>\n",
              "      <td>2</td>\n",
              "      <td>1</td>\n",
              "    </tr>\n",
              "    <tr>\n",
              "      <th>4</th>\n",
              "      <td>54</td>\n",
              "      <td>1</td>\n",
              "      <td>3</td>\n",
              "      <td>150</td>\n",
              "      <td>195</td>\n",
              "      <td>0</td>\n",
              "      <td>0</td>\n",
              "      <td>122</td>\n",
              "      <td>0</td>\n",
              "      <td>0.0</td>\n",
              "      <td>1</td>\n",
              "      <td>0</td>\n",
              "    </tr>\n",
              "    <tr>\n",
              "      <th>5</th>\n",
              "      <td>39</td>\n",
              "      <td>1</td>\n",
              "      <td>3</td>\n",
              "      <td>120</td>\n",
              "      <td>339</td>\n",
              "      <td>0</td>\n",
              "      <td>0</td>\n",
              "      <td>170</td>\n",
              "      <td>0</td>\n",
              "      <td>0.0</td>\n",
              "      <td>1</td>\n",
              "      <td>0</td>\n",
              "    </tr>\n",
              "    <tr>\n",
              "      <th>6</th>\n",
              "      <td>45</td>\n",
              "      <td>0</td>\n",
              "      <td>2</td>\n",
              "      <td>130</td>\n",
              "      <td>237</td>\n",
              "      <td>0</td>\n",
              "      <td>0</td>\n",
              "      <td>170</td>\n",
              "      <td>0</td>\n",
              "      <td>0.0</td>\n",
              "      <td>1</td>\n",
              "      <td>0</td>\n",
              "    </tr>\n",
              "    <tr>\n",
              "      <th>7</th>\n",
              "      <td>54</td>\n",
              "      <td>1</td>\n",
              "      <td>2</td>\n",
              "      <td>110</td>\n",
              "      <td>208</td>\n",
              "      <td>0</td>\n",
              "      <td>0</td>\n",
              "      <td>142</td>\n",
              "      <td>0</td>\n",
              "      <td>0.0</td>\n",
              "      <td>1</td>\n",
              "      <td>0</td>\n",
              "    </tr>\n",
              "    <tr>\n",
              "      <th>8</th>\n",
              "      <td>37</td>\n",
              "      <td>1</td>\n",
              "      <td>4</td>\n",
              "      <td>140</td>\n",
              "      <td>207</td>\n",
              "      <td>0</td>\n",
              "      <td>0</td>\n",
              "      <td>130</td>\n",
              "      <td>1</td>\n",
              "      <td>1.5</td>\n",
              "      <td>2</td>\n",
              "      <td>1</td>\n",
              "    </tr>\n",
              "    <tr>\n",
              "      <th>9</th>\n",
              "      <td>48</td>\n",
              "      <td>0</td>\n",
              "      <td>2</td>\n",
              "      <td>120</td>\n",
              "      <td>284</td>\n",
              "      <td>0</td>\n",
              "      <td>0</td>\n",
              "      <td>120</td>\n",
              "      <td>0</td>\n",
              "      <td>0.0</td>\n",
              "      <td>1</td>\n",
              "      <td>0</td>\n",
              "    </tr>\n",
              "  </tbody>\n",
              "</table>\n",
              "</div>\n",
              "    <div class=\"colab-df-buttons\">\n",
              "\n",
              "  <div class=\"colab-df-container\">\n",
              "    <button class=\"colab-df-convert\" onclick=\"convertToInteractive('df-106cf10b-cc5d-4947-b98f-c7fc3933124d')\"\n",
              "            title=\"Convert this dataframe to an interactive table.\"\n",
              "            style=\"display:none;\">\n",
              "\n",
              "  <svg xmlns=\"http://www.w3.org/2000/svg\" height=\"24px\" viewBox=\"0 -960 960 960\">\n",
              "    <path d=\"M120-120v-720h720v720H120Zm60-500h600v-160H180v160Zm220 220h160v-160H400v160Zm0 220h160v-160H400v160ZM180-400h160v-160H180v160Zm440 0h160v-160H620v160ZM180-180h160v-160H180v160Zm440 0h160v-160H620v160Z\"/>\n",
              "  </svg>\n",
              "    </button>\n",
              "\n",
              "  <style>\n",
              "    .colab-df-container {\n",
              "      display:flex;\n",
              "      gap: 12px;\n",
              "    }\n",
              "\n",
              "    .colab-df-convert {\n",
              "      background-color: #E8F0FE;\n",
              "      border: none;\n",
              "      border-radius: 50%;\n",
              "      cursor: pointer;\n",
              "      display: none;\n",
              "      fill: #1967D2;\n",
              "      height: 32px;\n",
              "      padding: 0 0 0 0;\n",
              "      width: 32px;\n",
              "    }\n",
              "\n",
              "    .colab-df-convert:hover {\n",
              "      background-color: #E2EBFA;\n",
              "      box-shadow: 0px 1px 2px rgba(60, 64, 67, 0.3), 0px 1px 3px 1px rgba(60, 64, 67, 0.15);\n",
              "      fill: #174EA6;\n",
              "    }\n",
              "\n",
              "    .colab-df-buttons div {\n",
              "      margin-bottom: 4px;\n",
              "    }\n",
              "\n",
              "    [theme=dark] .colab-df-convert {\n",
              "      background-color: #3B4455;\n",
              "      fill: #D2E3FC;\n",
              "    }\n",
              "\n",
              "    [theme=dark] .colab-df-convert:hover {\n",
              "      background-color: #434B5C;\n",
              "      box-shadow: 0px 1px 3px 1px rgba(0, 0, 0, 0.15);\n",
              "      filter: drop-shadow(0px 1px 2px rgba(0, 0, 0, 0.3));\n",
              "      fill: #FFFFFF;\n",
              "    }\n",
              "  </style>\n",
              "\n",
              "    <script>\n",
              "      const buttonEl =\n",
              "        document.querySelector('#df-106cf10b-cc5d-4947-b98f-c7fc3933124d button.colab-df-convert');\n",
              "      buttonEl.style.display =\n",
              "        google.colab.kernel.accessAllowed ? 'block' : 'none';\n",
              "\n",
              "      async function convertToInteractive(key) {\n",
              "        const element = document.querySelector('#df-106cf10b-cc5d-4947-b98f-c7fc3933124d');\n",
              "        const dataTable =\n",
              "          await google.colab.kernel.invokeFunction('convertToInteractive',\n",
              "                                                    [key], {});\n",
              "        if (!dataTable) return;\n",
              "\n",
              "        const docLinkHtml = 'Like what you see? Visit the ' +\n",
              "          '<a target=\"_blank\" href=https://colab.research.google.com/notebooks/data_table.ipynb>data table notebook</a>'\n",
              "          + ' to learn more about interactive tables.';\n",
              "        element.innerHTML = '';\n",
              "        dataTable['output_type'] = 'display_data';\n",
              "        await google.colab.output.renderOutput(dataTable, element);\n",
              "        const docLink = document.createElement('div');\n",
              "        docLink.innerHTML = docLinkHtml;\n",
              "        element.appendChild(docLink);\n",
              "      }\n",
              "    </script>\n",
              "  </div>\n",
              "\n",
              "\n",
              "<div id=\"df-2fcc1a7f-f293-4e8b-8bc8-28084289a865\">\n",
              "  <button class=\"colab-df-quickchart\" onclick=\"quickchart('df-2fcc1a7f-f293-4e8b-8bc8-28084289a865')\"\n",
              "            title=\"Suggest charts.\"\n",
              "            style=\"display:none;\">\n",
              "\n",
              "<svg xmlns=\"http://www.w3.org/2000/svg\" height=\"24px\"viewBox=\"0 0 24 24\"\n",
              "     width=\"24px\">\n",
              "    <g>\n",
              "        <path d=\"M19 3H5c-1.1 0-2 .9-2 2v14c0 1.1.9 2 2 2h14c1.1 0 2-.9 2-2V5c0-1.1-.9-2-2-2zM9 17H7v-7h2v7zm4 0h-2V7h2v10zm4 0h-2v-4h2v4z\"/>\n",
              "    </g>\n",
              "</svg>\n",
              "  </button>\n",
              "\n",
              "<style>\n",
              "  .colab-df-quickchart {\n",
              "      --bg-color: #E8F0FE;\n",
              "      --fill-color: #1967D2;\n",
              "      --hover-bg-color: #E2EBFA;\n",
              "      --hover-fill-color: #174EA6;\n",
              "      --disabled-fill-color: #AAA;\n",
              "      --disabled-bg-color: #DDD;\n",
              "  }\n",
              "\n",
              "  [theme=dark] .colab-df-quickchart {\n",
              "      --bg-color: #3B4455;\n",
              "      --fill-color: #D2E3FC;\n",
              "      --hover-bg-color: #434B5C;\n",
              "      --hover-fill-color: #FFFFFF;\n",
              "      --disabled-bg-color: #3B4455;\n",
              "      --disabled-fill-color: #666;\n",
              "  }\n",
              "\n",
              "  .colab-df-quickchart {\n",
              "    background-color: var(--bg-color);\n",
              "    border: none;\n",
              "    border-radius: 50%;\n",
              "    cursor: pointer;\n",
              "    display: none;\n",
              "    fill: var(--fill-color);\n",
              "    height: 32px;\n",
              "    padding: 0;\n",
              "    width: 32px;\n",
              "  }\n",
              "\n",
              "  .colab-df-quickchart:hover {\n",
              "    background-color: var(--hover-bg-color);\n",
              "    box-shadow: 0 1px 2px rgba(60, 64, 67, 0.3), 0 1px 3px 1px rgba(60, 64, 67, 0.15);\n",
              "    fill: var(--button-hover-fill-color);\n",
              "  }\n",
              "\n",
              "  .colab-df-quickchart-complete:disabled,\n",
              "  .colab-df-quickchart-complete:disabled:hover {\n",
              "    background-color: var(--disabled-bg-color);\n",
              "    fill: var(--disabled-fill-color);\n",
              "    box-shadow: none;\n",
              "  }\n",
              "\n",
              "  .colab-df-spinner {\n",
              "    border: 2px solid var(--fill-color);\n",
              "    border-color: transparent;\n",
              "    border-bottom-color: var(--fill-color);\n",
              "    animation:\n",
              "      spin 1s steps(1) infinite;\n",
              "  }\n",
              "\n",
              "  @keyframes spin {\n",
              "    0% {\n",
              "      border-color: transparent;\n",
              "      border-bottom-color: var(--fill-color);\n",
              "      border-left-color: var(--fill-color);\n",
              "    }\n",
              "    20% {\n",
              "      border-color: transparent;\n",
              "      border-left-color: var(--fill-color);\n",
              "      border-top-color: var(--fill-color);\n",
              "    }\n",
              "    30% {\n",
              "      border-color: transparent;\n",
              "      border-left-color: var(--fill-color);\n",
              "      border-top-color: var(--fill-color);\n",
              "      border-right-color: var(--fill-color);\n",
              "    }\n",
              "    40% {\n",
              "      border-color: transparent;\n",
              "      border-right-color: var(--fill-color);\n",
              "      border-top-color: var(--fill-color);\n",
              "    }\n",
              "    60% {\n",
              "      border-color: transparent;\n",
              "      border-right-color: var(--fill-color);\n",
              "    }\n",
              "    80% {\n",
              "      border-color: transparent;\n",
              "      border-right-color: var(--fill-color);\n",
              "      border-bottom-color: var(--fill-color);\n",
              "    }\n",
              "    90% {\n",
              "      border-color: transparent;\n",
              "      border-bottom-color: var(--fill-color);\n",
              "    }\n",
              "  }\n",
              "</style>\n",
              "\n",
              "  <script>\n",
              "    async function quickchart(key) {\n",
              "      const quickchartButtonEl =\n",
              "        document.querySelector('#' + key + ' button');\n",
              "      quickchartButtonEl.disabled = true;  // To prevent multiple clicks.\n",
              "      quickchartButtonEl.classList.add('colab-df-spinner');\n",
              "      try {\n",
              "        const charts = await google.colab.kernel.invokeFunction(\n",
              "            'suggestCharts', [key], {});\n",
              "      } catch (error) {\n",
              "        console.error('Error during call to suggestCharts:', error);\n",
              "      }\n",
              "      quickchartButtonEl.classList.remove('colab-df-spinner');\n",
              "      quickchartButtonEl.classList.add('colab-df-quickchart-complete');\n",
              "    }\n",
              "    (() => {\n",
              "      let quickchartButtonEl =\n",
              "        document.querySelector('#df-2fcc1a7f-f293-4e8b-8bc8-28084289a865 button');\n",
              "      quickchartButtonEl.style.display =\n",
              "        google.colab.kernel.accessAllowed ? 'block' : 'none';\n",
              "    })();\n",
              "  </script>\n",
              "</div>\n",
              "    </div>\n",
              "  </div>\n"
            ]
          },
          "metadata": {},
          "execution_count": 34
        }
      ],
      "source": [
        "original_dataframe = pd.read_csv('Heart_Disease_Dataset.csv')                   #loading data\n",
        "original_dataframe.head(10)                                                     # Showing first 10 rows of data"
      ]
    },
    {
      "cell_type": "markdown",
      "metadata": {
        "id": "FsoHEzN-ZBdX"
      },
      "source": [
        "---\n",
        "\n",
        "### **(A) Data Overview**\n",
        "\n",
        "In this section, I provide an overview of the dataset. The relevant information is organized and presented clearly.\n",
        "\n",
        "Additionally, I have plotted several graphs to enhance the understanding of the data.\n",
        "\n",
        "Any content that goes beyond the primary requirements is clearly marked with appropriate comments.\n"
      ]
    },
    {
      "cell_type": "code",
      "execution_count": null,
      "metadata": {
        "colab": {
          "base_uri": "https://localhost:8080/",
          "height": 317
        },
        "id": "he_KUJCv4TxX",
        "outputId": "ad93e9ba-c080-4314-a623-836bd12e9553"
      },
      "outputs": [
        {
          "output_type": "execute_result",
          "data": {
            "text/plain": [
              "               age          sex  chest pain type  resting bp s  cholesterol  \\\n",
              "count  1190.000000  1190.000000      1190.000000   1190.000000  1190.000000   \n",
              "mean     53.720168     0.763866         3.232773    132.153782   210.363866   \n",
              "std       9.358203     0.424884         0.935480     18.368823   101.420489   \n",
              "min      28.000000     0.000000         1.000000      0.000000     0.000000   \n",
              "25%      47.000000     1.000000         3.000000    120.000000   188.000000   \n",
              "50%      54.000000     1.000000         4.000000    130.000000   229.000000   \n",
              "75%      60.000000     1.000000         4.000000    140.000000   269.750000   \n",
              "max      77.000000     1.000000         4.000000    200.000000   603.000000   \n",
              "\n",
              "       fasting blood sugar  resting ecg  max heart rate  exercise angina  \\\n",
              "count          1190.000000  1190.000000     1190.000000      1190.000000   \n",
              "mean              0.213445     0.698319      139.732773         0.387395   \n",
              "std               0.409912     0.870359       25.517636         0.487360   \n",
              "min               0.000000     0.000000       60.000000         0.000000   \n",
              "25%               0.000000     0.000000      121.000000         0.000000   \n",
              "50%               0.000000     0.000000      140.500000         0.000000   \n",
              "75%               0.000000     2.000000      160.000000         1.000000   \n",
              "max               1.000000     2.000000      202.000000         1.000000   \n",
              "\n",
              "           oldpeak     ST slope       target  \n",
              "count  1190.000000  1190.000000  1190.000000  \n",
              "mean      0.922773     1.624370     0.528571  \n",
              "std       1.086337     0.610459     0.499393  \n",
              "min      -2.600000     0.000000     0.000000  \n",
              "25%       0.000000     1.000000     0.000000  \n",
              "50%       0.600000     2.000000     1.000000  \n",
              "75%       1.600000     2.000000     1.000000  \n",
              "max       6.200000     3.000000     1.000000  "
            ],
            "text/html": [
              "\n",
              "  <div id=\"df-cd92166e-7b69-4b2e-b9ab-94f0ce5ed0ec\" class=\"colab-df-container\">\n",
              "    <div>\n",
              "<style scoped>\n",
              "    .dataframe tbody tr th:only-of-type {\n",
              "        vertical-align: middle;\n",
              "    }\n",
              "\n",
              "    .dataframe tbody tr th {\n",
              "        vertical-align: top;\n",
              "    }\n",
              "\n",
              "    .dataframe thead th {\n",
              "        text-align: right;\n",
              "    }\n",
              "</style>\n",
              "<table border=\"1\" class=\"dataframe\">\n",
              "  <thead>\n",
              "    <tr style=\"text-align: right;\">\n",
              "      <th></th>\n",
              "      <th>age</th>\n",
              "      <th>sex</th>\n",
              "      <th>chest pain type</th>\n",
              "      <th>resting bp s</th>\n",
              "      <th>cholesterol</th>\n",
              "      <th>fasting blood sugar</th>\n",
              "      <th>resting ecg</th>\n",
              "      <th>max heart rate</th>\n",
              "      <th>exercise angina</th>\n",
              "      <th>oldpeak</th>\n",
              "      <th>ST slope</th>\n",
              "      <th>target</th>\n",
              "    </tr>\n",
              "  </thead>\n",
              "  <tbody>\n",
              "    <tr>\n",
              "      <th>count</th>\n",
              "      <td>1190.000000</td>\n",
              "      <td>1190.000000</td>\n",
              "      <td>1190.000000</td>\n",
              "      <td>1190.000000</td>\n",
              "      <td>1190.000000</td>\n",
              "      <td>1190.000000</td>\n",
              "      <td>1190.000000</td>\n",
              "      <td>1190.000000</td>\n",
              "      <td>1190.000000</td>\n",
              "      <td>1190.000000</td>\n",
              "      <td>1190.000000</td>\n",
              "      <td>1190.000000</td>\n",
              "    </tr>\n",
              "    <tr>\n",
              "      <th>mean</th>\n",
              "      <td>53.720168</td>\n",
              "      <td>0.763866</td>\n",
              "      <td>3.232773</td>\n",
              "      <td>132.153782</td>\n",
              "      <td>210.363866</td>\n",
              "      <td>0.213445</td>\n",
              "      <td>0.698319</td>\n",
              "      <td>139.732773</td>\n",
              "      <td>0.387395</td>\n",
              "      <td>0.922773</td>\n",
              "      <td>1.624370</td>\n",
              "      <td>0.528571</td>\n",
              "    </tr>\n",
              "    <tr>\n",
              "      <th>std</th>\n",
              "      <td>9.358203</td>\n",
              "      <td>0.424884</td>\n",
              "      <td>0.935480</td>\n",
              "      <td>18.368823</td>\n",
              "      <td>101.420489</td>\n",
              "      <td>0.409912</td>\n",
              "      <td>0.870359</td>\n",
              "      <td>25.517636</td>\n",
              "      <td>0.487360</td>\n",
              "      <td>1.086337</td>\n",
              "      <td>0.610459</td>\n",
              "      <td>0.499393</td>\n",
              "    </tr>\n",
              "    <tr>\n",
              "      <th>min</th>\n",
              "      <td>28.000000</td>\n",
              "      <td>0.000000</td>\n",
              "      <td>1.000000</td>\n",
              "      <td>0.000000</td>\n",
              "      <td>0.000000</td>\n",
              "      <td>0.000000</td>\n",
              "      <td>0.000000</td>\n",
              "      <td>60.000000</td>\n",
              "      <td>0.000000</td>\n",
              "      <td>-2.600000</td>\n",
              "      <td>0.000000</td>\n",
              "      <td>0.000000</td>\n",
              "    </tr>\n",
              "    <tr>\n",
              "      <th>25%</th>\n",
              "      <td>47.000000</td>\n",
              "      <td>1.000000</td>\n",
              "      <td>3.000000</td>\n",
              "      <td>120.000000</td>\n",
              "      <td>188.000000</td>\n",
              "      <td>0.000000</td>\n",
              "      <td>0.000000</td>\n",
              "      <td>121.000000</td>\n",
              "      <td>0.000000</td>\n",
              "      <td>0.000000</td>\n",
              "      <td>1.000000</td>\n",
              "      <td>0.000000</td>\n",
              "    </tr>\n",
              "    <tr>\n",
              "      <th>50%</th>\n",
              "      <td>54.000000</td>\n",
              "      <td>1.000000</td>\n",
              "      <td>4.000000</td>\n",
              "      <td>130.000000</td>\n",
              "      <td>229.000000</td>\n",
              "      <td>0.000000</td>\n",
              "      <td>0.000000</td>\n",
              "      <td>140.500000</td>\n",
              "      <td>0.000000</td>\n",
              "      <td>0.600000</td>\n",
              "      <td>2.000000</td>\n",
              "      <td>1.000000</td>\n",
              "    </tr>\n",
              "    <tr>\n",
              "      <th>75%</th>\n",
              "      <td>60.000000</td>\n",
              "      <td>1.000000</td>\n",
              "      <td>4.000000</td>\n",
              "      <td>140.000000</td>\n",
              "      <td>269.750000</td>\n",
              "      <td>0.000000</td>\n",
              "      <td>2.000000</td>\n",
              "      <td>160.000000</td>\n",
              "      <td>1.000000</td>\n",
              "      <td>1.600000</td>\n",
              "      <td>2.000000</td>\n",
              "      <td>1.000000</td>\n",
              "    </tr>\n",
              "    <tr>\n",
              "      <th>max</th>\n",
              "      <td>77.000000</td>\n",
              "      <td>1.000000</td>\n",
              "      <td>4.000000</td>\n",
              "      <td>200.000000</td>\n",
              "      <td>603.000000</td>\n",
              "      <td>1.000000</td>\n",
              "      <td>2.000000</td>\n",
              "      <td>202.000000</td>\n",
              "      <td>1.000000</td>\n",
              "      <td>6.200000</td>\n",
              "      <td>3.000000</td>\n",
              "      <td>1.000000</td>\n",
              "    </tr>\n",
              "  </tbody>\n",
              "</table>\n",
              "</div>\n",
              "    <div class=\"colab-df-buttons\">\n",
              "\n",
              "  <div class=\"colab-df-container\">\n",
              "    <button class=\"colab-df-convert\" onclick=\"convertToInteractive('df-cd92166e-7b69-4b2e-b9ab-94f0ce5ed0ec')\"\n",
              "            title=\"Convert this dataframe to an interactive table.\"\n",
              "            style=\"display:none;\">\n",
              "\n",
              "  <svg xmlns=\"http://www.w3.org/2000/svg\" height=\"24px\" viewBox=\"0 -960 960 960\">\n",
              "    <path d=\"M120-120v-720h720v720H120Zm60-500h600v-160H180v160Zm220 220h160v-160H400v160Zm0 220h160v-160H400v160ZM180-400h160v-160H180v160Zm440 0h160v-160H620v160ZM180-180h160v-160H180v160Zm440 0h160v-160H620v160Z\"/>\n",
              "  </svg>\n",
              "    </button>\n",
              "\n",
              "  <style>\n",
              "    .colab-df-container {\n",
              "      display:flex;\n",
              "      gap: 12px;\n",
              "    }\n",
              "\n",
              "    .colab-df-convert {\n",
              "      background-color: #E8F0FE;\n",
              "      border: none;\n",
              "      border-radius: 50%;\n",
              "      cursor: pointer;\n",
              "      display: none;\n",
              "      fill: #1967D2;\n",
              "      height: 32px;\n",
              "      padding: 0 0 0 0;\n",
              "      width: 32px;\n",
              "    }\n",
              "\n",
              "    .colab-df-convert:hover {\n",
              "      background-color: #E2EBFA;\n",
              "      box-shadow: 0px 1px 2px rgba(60, 64, 67, 0.3), 0px 1px 3px 1px rgba(60, 64, 67, 0.15);\n",
              "      fill: #174EA6;\n",
              "    }\n",
              "\n",
              "    .colab-df-buttons div {\n",
              "      margin-bottom: 4px;\n",
              "    }\n",
              "\n",
              "    [theme=dark] .colab-df-convert {\n",
              "      background-color: #3B4455;\n",
              "      fill: #D2E3FC;\n",
              "    }\n",
              "\n",
              "    [theme=dark] .colab-df-convert:hover {\n",
              "      background-color: #434B5C;\n",
              "      box-shadow: 0px 1px 3px 1px rgba(0, 0, 0, 0.15);\n",
              "      filter: drop-shadow(0px 1px 2px rgba(0, 0, 0, 0.3));\n",
              "      fill: #FFFFFF;\n",
              "    }\n",
              "  </style>\n",
              "\n",
              "    <script>\n",
              "      const buttonEl =\n",
              "        document.querySelector('#df-cd92166e-7b69-4b2e-b9ab-94f0ce5ed0ec button.colab-df-convert');\n",
              "      buttonEl.style.display =\n",
              "        google.colab.kernel.accessAllowed ? 'block' : 'none';\n",
              "\n",
              "      async function convertToInteractive(key) {\n",
              "        const element = document.querySelector('#df-cd92166e-7b69-4b2e-b9ab-94f0ce5ed0ec');\n",
              "        const dataTable =\n",
              "          await google.colab.kernel.invokeFunction('convertToInteractive',\n",
              "                                                    [key], {});\n",
              "        if (!dataTable) return;\n",
              "\n",
              "        const docLinkHtml = 'Like what you see? Visit the ' +\n",
              "          '<a target=\"_blank\" href=https://colab.research.google.com/notebooks/data_table.ipynb>data table notebook</a>'\n",
              "          + ' to learn more about interactive tables.';\n",
              "        element.innerHTML = '';\n",
              "        dataTable['output_type'] = 'display_data';\n",
              "        await google.colab.output.renderOutput(dataTable, element);\n",
              "        const docLink = document.createElement('div');\n",
              "        docLink.innerHTML = docLinkHtml;\n",
              "        element.appendChild(docLink);\n",
              "      }\n",
              "    </script>\n",
              "  </div>\n",
              "\n",
              "\n",
              "<div id=\"df-d094240b-8619-4777-8972-0d6a8e6cb9c7\">\n",
              "  <button class=\"colab-df-quickchart\" onclick=\"quickchart('df-d094240b-8619-4777-8972-0d6a8e6cb9c7')\"\n",
              "            title=\"Suggest charts.\"\n",
              "            style=\"display:none;\">\n",
              "\n",
              "<svg xmlns=\"http://www.w3.org/2000/svg\" height=\"24px\"viewBox=\"0 0 24 24\"\n",
              "     width=\"24px\">\n",
              "    <g>\n",
              "        <path d=\"M19 3H5c-1.1 0-2 .9-2 2v14c0 1.1.9 2 2 2h14c1.1 0 2-.9 2-2V5c0-1.1-.9-2-2-2zM9 17H7v-7h2v7zm4 0h-2V7h2v10zm4 0h-2v-4h2v4z\"/>\n",
              "    </g>\n",
              "</svg>\n",
              "  </button>\n",
              "\n",
              "<style>\n",
              "  .colab-df-quickchart {\n",
              "      --bg-color: #E8F0FE;\n",
              "      --fill-color: #1967D2;\n",
              "      --hover-bg-color: #E2EBFA;\n",
              "      --hover-fill-color: #174EA6;\n",
              "      --disabled-fill-color: #AAA;\n",
              "      --disabled-bg-color: #DDD;\n",
              "  }\n",
              "\n",
              "  [theme=dark] .colab-df-quickchart {\n",
              "      --bg-color: #3B4455;\n",
              "      --fill-color: #D2E3FC;\n",
              "      --hover-bg-color: #434B5C;\n",
              "      --hover-fill-color: #FFFFFF;\n",
              "      --disabled-bg-color: #3B4455;\n",
              "      --disabled-fill-color: #666;\n",
              "  }\n",
              "\n",
              "  .colab-df-quickchart {\n",
              "    background-color: var(--bg-color);\n",
              "    border: none;\n",
              "    border-radius: 50%;\n",
              "    cursor: pointer;\n",
              "    display: none;\n",
              "    fill: var(--fill-color);\n",
              "    height: 32px;\n",
              "    padding: 0;\n",
              "    width: 32px;\n",
              "  }\n",
              "\n",
              "  .colab-df-quickchart:hover {\n",
              "    background-color: var(--hover-bg-color);\n",
              "    box-shadow: 0 1px 2px rgba(60, 64, 67, 0.3), 0 1px 3px 1px rgba(60, 64, 67, 0.15);\n",
              "    fill: var(--button-hover-fill-color);\n",
              "  }\n",
              "\n",
              "  .colab-df-quickchart-complete:disabled,\n",
              "  .colab-df-quickchart-complete:disabled:hover {\n",
              "    background-color: var(--disabled-bg-color);\n",
              "    fill: var(--disabled-fill-color);\n",
              "    box-shadow: none;\n",
              "  }\n",
              "\n",
              "  .colab-df-spinner {\n",
              "    border: 2px solid var(--fill-color);\n",
              "    border-color: transparent;\n",
              "    border-bottom-color: var(--fill-color);\n",
              "    animation:\n",
              "      spin 1s steps(1) infinite;\n",
              "  }\n",
              "\n",
              "  @keyframes spin {\n",
              "    0% {\n",
              "      border-color: transparent;\n",
              "      border-bottom-color: var(--fill-color);\n",
              "      border-left-color: var(--fill-color);\n",
              "    }\n",
              "    20% {\n",
              "      border-color: transparent;\n",
              "      border-left-color: var(--fill-color);\n",
              "      border-top-color: var(--fill-color);\n",
              "    }\n",
              "    30% {\n",
              "      border-color: transparent;\n",
              "      border-left-color: var(--fill-color);\n",
              "      border-top-color: var(--fill-color);\n",
              "      border-right-color: var(--fill-color);\n",
              "    }\n",
              "    40% {\n",
              "      border-color: transparent;\n",
              "      border-right-color: var(--fill-color);\n",
              "      border-top-color: var(--fill-color);\n",
              "    }\n",
              "    60% {\n",
              "      border-color: transparent;\n",
              "      border-right-color: var(--fill-color);\n",
              "    }\n",
              "    80% {\n",
              "      border-color: transparent;\n",
              "      border-right-color: var(--fill-color);\n",
              "      border-bottom-color: var(--fill-color);\n",
              "    }\n",
              "    90% {\n",
              "      border-color: transparent;\n",
              "      border-bottom-color: var(--fill-color);\n",
              "    }\n",
              "  }\n",
              "</style>\n",
              "\n",
              "  <script>\n",
              "    async function quickchart(key) {\n",
              "      const quickchartButtonEl =\n",
              "        document.querySelector('#' + key + ' button');\n",
              "      quickchartButtonEl.disabled = true;  // To prevent multiple clicks.\n",
              "      quickchartButtonEl.classList.add('colab-df-spinner');\n",
              "      try {\n",
              "        const charts = await google.colab.kernel.invokeFunction(\n",
              "            'suggestCharts', [key], {});\n",
              "      } catch (error) {\n",
              "        console.error('Error during call to suggestCharts:', error);\n",
              "      }\n",
              "      quickchartButtonEl.classList.remove('colab-df-spinner');\n",
              "      quickchartButtonEl.classList.add('colab-df-quickchart-complete');\n",
              "    }\n",
              "    (() => {\n",
              "      let quickchartButtonEl =\n",
              "        document.querySelector('#df-d094240b-8619-4777-8972-0d6a8e6cb9c7 button');\n",
              "      quickchartButtonEl.style.display =\n",
              "        google.colab.kernel.accessAllowed ? 'block' : 'none';\n",
              "    })();\n",
              "  </script>\n",
              "</div>\n",
              "    </div>\n",
              "  </div>\n"
            ]
          },
          "metadata": {},
          "execution_count": 35
        }
      ],
      "source": [
        "original_dataframe.describe()                                                   # generating statistical summary"
      ]
    },
    {
      "cell_type": "markdown",
      "metadata": {
        "id": "rillfoQhac7X"
      },
      "source": [
        "---\n",
        "\n",
        "### **i.** Data Size\n",
        "\n",
        "---\n"
      ]
    },
    {
      "cell_type": "code",
      "execution_count": null,
      "metadata": {
        "colab": {
          "base_uri": "https://localhost:8080/"
        },
        "id": "S3lnfNqpacML",
        "outputId": "524a57db-4d83-4535-c5c9-f0f86031baad"
      },
      "outputs": [
        {
          "output_type": "execute_result",
          "data": {
            "text/plain": [
              "(1190, 12)"
            ]
          },
          "metadata": {},
          "execution_count": 36
        }
      ],
      "source": [
        "original_dataframe.shape                                                        # obtain the number of rows and columns in the DataFrame"
      ]
    },
    {
      "cell_type": "code",
      "execution_count": null,
      "metadata": {
        "colab": {
          "base_uri": "https://localhost:8080/"
        },
        "id": "iYaeSLqxacJK",
        "outputId": "38674f1c-7bb1-4b93-a99b-b0bb8fbd4ab7"
      },
      "outputs": [
        {
          "output_type": "execute_result",
          "data": {
            "text/plain": [
              "age                      int64\n",
              "sex                      int64\n",
              "chest pain type          int64\n",
              "resting bp s             int64\n",
              "cholesterol              int64\n",
              "fasting blood sugar      int64\n",
              "resting ecg              int64\n",
              "max heart rate           int64\n",
              "exercise angina          int64\n",
              "oldpeak                float64\n",
              "ST slope                 int64\n",
              "target                   int64\n",
              "dtype: object"
            ]
          },
          "metadata": {},
          "execution_count": 37
        }
      ],
      "source": [
        "#######################################################################################\n",
        "# This cell contains additional information beyond the scope of the original question.#\n",
        "#######################################################################################\n",
        "\n",
        "original_dataframe.dtypes                                                       # Show the data types for each column"
      ]
    },
    {
      "cell_type": "markdown",
      "metadata": {
        "id": "IsQzCtKQeLuM"
      },
      "source": [
        "By executing the previous cell, it was confirmed that there are no non-numeric values in the dataset. Therefore, there is no need for data encoding. This information was mentioned in the dataset description, but this cell was executed for verification purposes."
      ]
    },
    {
      "cell_type": "markdown",
      "metadata": {
        "id": "zCS7MyhCcV57"
      },
      "source": [
        "---\n",
        "\n",
        "### **ii.** Checking for Missing Features in Each Sample\n",
        "\n",
        "---"
      ]
    },
    {
      "cell_type": "code",
      "execution_count": null,
      "metadata": {
        "colab": {
          "base_uri": "https://localhost:8080/"
        },
        "id": "ZMHp4CQFacGC",
        "outputId": "fdb1ba99-840b-4d2b-9047-af4db3ebf926"
      },
      "outputs": [
        {
          "output_type": "execute_result",
          "data": {
            "text/plain": [
              "age                    0\n",
              "sex                    0\n",
              "chest pain type        0\n",
              "resting bp s           0\n",
              "cholesterol            0\n",
              "fasting blood sugar    0\n",
              "resting ecg            0\n",
              "max heart rate         0\n",
              "exercise angina        0\n",
              "oldpeak                0\n",
              "ST slope               0\n",
              "target                 0\n",
              "dtype: int64"
            ]
          },
          "metadata": {},
          "execution_count": 38
        }
      ],
      "source": [
        "original_dataframe.isnull().sum()    #check for null values in the dataset"
      ]
    },
    {
      "cell_type": "markdown",
      "metadata": {
        "id": "PrvyxK8ceBnX"
      },
      "source": [
        "As can be seen from the obtained numbers (0), there are no missing values in the DataFrame.\n"
      ]
    },
    {
      "cell_type": "markdown",
      "metadata": {
        "id": "B5HFgyrHeyLd"
      },
      "source": [
        "---\n",
        "\n",
        "### **iii.** Checking for Balance\n",
        "\n",
        "---"
      ]
    },
    {
      "cell_type": "code",
      "execution_count": null,
      "metadata": {
        "colab": {
          "base_uri": "https://localhost:8080/"
        },
        "id": "ou4QwLktfKvh",
        "outputId": "797ea12e-35fe-40e4-de5a-d76b9ed1a5a6"
      },
      "outputs": [
        {
          "output_type": "execute_result",
          "data": {
            "text/plain": [
              "1    629\n",
              "0    561\n",
              "Name: target, dtype: int64"
            ]
          },
          "metadata": {},
          "execution_count": 39
        }
      ],
      "source": [
        "original_dataframe['target'].value_counts()                                     #Count the occurrences of 1 شand 0 in the 'target' column"
      ]
    },
    {
      "cell_type": "markdown",
      "metadata": {
        "id": "wzCqGRQffX7d"
      },
      "source": [
        "By executing the previous cell, it is clear that out of the 1190 labels present, 629 are labeled as 1, indicating that the patient is at risk, while 561 labels are 0, representing a normal condition. Additionally, graphs have been plotted to enhance the understanding of this aspect. The number of labels in both groups is approximately equal, indicating that the data is balanced."
      ]
    },
    {
      "cell_type": "code",
      "execution_count": null,
      "metadata": {
        "colab": {
          "base_uri": "https://localhost:8080/",
          "height": 576
        },
        "id": "PHOnftqBgj7h",
        "outputId": "3f0564ef-25ba-47bd-d03d-0a89b58ca7bf"
      },
      "outputs": [
        {
          "output_type": "display_data",
          "data": {
            "text/plain": [
              "<Figure size 700x700 with 1 Axes>"
            ],
            "image/png": "[encoded data removed]"
          },
          "metadata": {}
        }
      ],
      "source": [
        "#plotting\n",
        "\n",
        "plt.figure(figsize=(7,7))                                                       #figure with a size of 7x7\n",
        "class_count=original_dataframe['target'].value_counts()\n",
        "label=['At Risk  (label:1)', 'Normal (label:0)']\n",
        "color=['Red','#44d7a8']\n",
        "explode=[0,0.1]\n",
        "plt.pie(class_count,explode=explode,labels=label,colors=color,shadow=True)\n",
        "plt.legend()\n",
        "plt.show()"
      ]
    },
    {
      "cell_type": "markdown",
      "metadata": {
        "id": "kg3Kq9-6DDKH"
      },
      "source": [
        "Another representation of the data balance is illustrated below."
      ]
    },
    {
      "cell_type": "code",
      "execution_count": null,
      "metadata": {
        "colab": {
          "base_uri": "https://localhost:8080/",
          "height": 333
        },
        "id": "iy59Gv3KacDw",
        "outputId": "9c19cf1c-a64a-426f-d97d-8f1ba98766da"
      },
      "outputs": [
        {
          "output_type": "display_data",
          "data": {
            "text/plain": [
              "<Figure size 500x300 with 1 Axes>"
            ],
            "image/png": "[encoded data removed]"
          },
          "metadata": {}
        }
      ],
      "source": [
        "####################################################################################\n",
        "# This cell contains an alternative approach for visualizing the data distribution #\n",
        "####################################################################################\n",
        "plt.figure(figsize=(5,3))\n",
        "# Plotting the class distribution\n",
        "plt.bar(class_count.index, class_count.values, color=color, width=0.25, edgecolor='black')\n",
        "plt.xlabel('Class')\n",
        "plt.ylabel('Counts')\n",
        "plt.title('Class Distribution')\n",
        "plt.show()"
      ]
    },
    {
      "cell_type": "markdown",
      "metadata": {
        "id": "i-3Q0c8-wJRZ"
      },
      "source": [
        "---\n",
        "\n",
        "### **iv.** Plotting Age Distribution and Gender Distribution for Each Class (four plots)\n",
        "\n",
        "---"
      ]
    },
    {
      "cell_type": "code",
      "execution_count": null,
      "metadata": {
        "colab": {
          "base_uri": "https://localhost:8080/",
          "height": 906
        },
        "id": "IJqSGDTHkTOC",
        "outputId": "b10db954-2c18-4795-834c-e69212f17491"
      },
      "outputs": [
        {
          "output_type": "display_data",
          "data": {
            "text/plain": [
              "<Figure size 1200x900 with 4 Axes>"
            ],
            "image/png": "[encoded data removed]"
          },
          "metadata": {}
        }
      ],
      "source": [
        "gender_color = ['#7df9ff', '#f2bdcd']                                           # f2bdcd : light pink and 7df9ff : light blue\n",
        "fig, axes = plt.subplots(nrows=2, ncols=2, figsize=(12, 9))                     # Set up subplots\n",
        "\n",
        "# Plot gender distribution for class 1\n",
        "axes[0,0].bar(original_dataframe[original_dataframe['target'] == 1]['sex'].value_counts().index, original_dataframe[original_dataframe['target'] == 1]['sex'].value_counts().values,\n",
        "              color=gender_color, width=0.25, edgecolor='black')\n",
        "axes[0,0].set_title ('Gender Distribution - Class 1 (at risk)')\n",
        "axes[0,0].set_xlabel('Gender (Male=1,FEMALE=0)')\n",
        "axes[0,0].set_ylabel('Count')\n",
        "\n",
        "# Plot gender distribution for class 0\n",
        "axes[0,1].bar(original_dataframe[original_dataframe['target'] == 0]['sex'].value_counts().index, original_dataframe[original_dataframe['target'] == 0]['sex'].value_counts().values,\n",
        "              color=gender_color, width=0.25, edgecolor='black')\n",
        "axes[0,1].set_title ('Gender Distribution - Class 0 (normal)')\n",
        "axes[0,1].set_xlabel('Gender (Male=1,FEMALE=0)')\n",
        "axes[0,1].set_ylabel('Count')\n",
        "\n",
        "# Plot age distribution for class 1\n",
        "axes[1,0].hist(original_dataframe[original_dataframe['target'] == 1]['age'], bins=10, color='#4f7942', edgecolor='black')\n",
        "axes[1,0].set_title ('Age Distribution - Class 1 (at risk)')\n",
        "axes[1,0].set_xlabel('Age'  )\n",
        "axes[1,0].set_ylabel('count')\n",
        "\n",
        "# Plot age distribution for class 0\n",
        "axes[1,1].hist(original_dataframe[original_dataframe['target'] == 0]['age'], bins=10, color='#4f7942', edgecolor='black')\n",
        "axes[1,1].set_title ('Age Distribution - Class 0 (normal)')\n",
        "axes[1,1].set_xlabel('Age'  )\n",
        "axes[1,1].set_ylabel('count')\n",
        "\n",
        "plt.tight_layout()                                                              # Adjust spacing between subplots\n",
        "plt.show()                                                                      # Show the plots"
      ]
    },
    {
      "cell_type": "markdown",
      "metadata": {
        "id": "EnHBtrFbynIr"
      },
      "source": [
        "***Note:***\n",
        "\n",
        "*   Age: Patients Age in years\n",
        "\n",
        "*   Sex: Gender of patient (Male - 1, Female - 0)\n",
        "\n",
        "*   class: It is the target variable. 1 means patient is suffering from heart risk and 0 means patient is normal"
      ]
    },
    {
      "cell_type": "markdown",
      "metadata": {
        "id": "txUKmcKZDDKN"
      },
      "source": [
        "#### For Better Understanding:\n"
      ]
    },
    {
      "cell_type": "code",
      "execution_count": null,
      "metadata": {
        "colab": {
          "base_uri": "https://localhost:8080/",
          "height": 531
        },
        "id": "SOO-cgoSkTGb",
        "outputId": "09171897-d2a4-4859-b4f6-a905c1e03ec0"
      },
      "outputs": [
        {
          "output_type": "execute_result",
          "data": {
            "text/plain": [
              "<seaborn.axisgrid.PairGrid at 0x78991b27e470>"
            ]
          },
          "metadata": {},
          "execution_count": 43
        },
        {
          "output_type": "display_data",
          "data": {
            "text/plain": [
              "<Figure size 558.875x500 with 6 Axes>"
            ],
            "image/png": "[encoded data removed]"
          },
          "metadata": {}
        }
      ],
      "source": [
        "#######################################################################################\n",
        "# This cell contains additional information beyond the scope of the original question.#\n",
        "#######################################################################################\n",
        "sns.pairplot(original_dataframe, hue = 'target', vars = ['age', 'sex'] )"
      ]
    },
    {
      "cell_type": "markdown",
      "metadata": {
        "id": "MZ9PAGW-zobn"
      },
      "source": [
        "--------------------------------------------------------------------------------\n",
        "### **(B) Outlier Removal using Z-test**\n",
        "\n",
        "In this section, we need to remove the outliers using the \"Z-test.\"\n"
      ]
    },
    {
      "cell_type": "code",
      "execution_count": null,
      "metadata": {
        "colab": {
          "base_uri": "https://localhost:8080/"
        },
        "id": "3LbgDEaPkTKn",
        "outputId": "13b0c8b2-23fe-4566-e752-e3cddc64c634"
      },
      "outputs": [
        {
          "output_type": "execute_result",
          "data": {
            "text/plain": [
              "Index(['age', 'sex', 'chest pain type', 'resting bp s', 'cholesterol',\n",
              "       'fasting blood sugar', 'resting ecg', 'max heart rate',\n",
              "       'exercise angina', 'oldpeak', 'ST slope', 'target'],\n",
              "      dtype='object')"
            ]
          },
          "metadata": {},
          "execution_count": 44
        }
      ],
      "source": [
        "original_dataframe.columns"
      ]
    },
    {
      "cell_type": "code",
      "execution_count": null,
      "metadata": {
        "colab": {
          "base_uri": "https://localhost:8080/"
        },
        "id": "WauftlQY9bsR",
        "outputId": "581875aa-485a-4671-95d0-071b095eb397"
      },
      "outputs": [
        {
          "output_type": "stream",
          "name": "stdout",
          "text": [
            "+----+-------+-------+-----------------+--------------+-------------+---------------------+-------------+----------------+-----------------+---------+----------+--------+\n",
            "|    |  age  |  sex  | chest pain type | resting bp s | cholesterol | fasting blood sugar | resting ecg | max heart rate | exercise angina | oldpeak | ST slope | target |\n",
            "+----+-------+-------+-----------------+--------------+-------------+---------------------+-------------+----------------+-----------------+---------+----------+--------+\n",
            "| 0  | 1.467 | 0.556 |      1.318      |    0.427     |    0.776    |        0.521        |    0.803    |     1.265      |      0.795      |  0.85   |  1.023   | 1.059  |\n",
            "| 1  | 0.505 | 1.799 |      0.249      |    1.517     |     0.3     |        0.521        |    0.803    |     0.638      |      0.795      |  0.071  |  0.616   | 0.944  |\n",
            "| 2  | 1.787 | 0.556 |      1.318      |    0.117     |    0.716    |        0.521        |    0.347    |     1.636      |      0.795      |  0.85   |  1.023   | 1.059  |\n",
            "| 3  | 0.612 | 1.799 |      0.82       |    0.318     |    0.036    |        0.521        |    0.803    |     1.244      |      1.258      |  0.532  |  0.616   | 0.944  |\n",
            "| 4  | 0.03  | 0.556 |      0.249      |    0.972     |    0.152    |        0.521        |    0.803    |     0.695      |      0.795      |  0.85   |  1.023   | 1.059  |\n",
            "| 5  | 1.574 | 0.556 |      0.249      |    0.662     |    1.269    |        0.521        |    0.803    |     1.187      |      0.795      |  0.85   |  1.023   | 1.059  |\n",
            "| 6  | 0.932 | 1.799 |      1.318      |    0.117     |    0.263    |        0.521        |    0.803    |     1.187      |      0.795      |  0.85   |  1.023   | 1.059  |\n",
            "| 7  | 0.03  | 0.556 |      1.318      |    1.207     |    0.023    |        0.521        |    0.803    |     0.089      |      0.795      |  0.85   |  1.023   | 1.059  |\n",
            "| 8  | 1.787 | 0.556 |      0.82       |    0.427     |    0.033    |        0.521        |    0.803    |     0.382      |      1.258      |  0.532  |  0.616   | 0.944  |\n",
            "| 9  | 0.612 | 1.799 |      1.318      |    0.662     |    0.726    |        0.521        |    0.803    |     0.774      |      0.795      |  0.85   |  1.023   | 1.059  |\n",
            "| 10 | 1.787 | 1.799 |      0.249      |    0.117     |    0.006    |        0.521        |    0.803    |     0.089      |      0.795      |  0.85   |  1.023   | 1.059  |\n",
            "| 11 | 0.458 | 0.556 |      1.318      |    0.209     |    0.457    |        0.521        |    0.347    |     1.597      |      1.258      |  0.992  |  0.616   | 0.944  |\n",
            "| 12 | 1.574 | 0.556 |      1.318      |    0.662     |    0.063    |        0.521        |    0.803    |     0.207      |      0.795      |  0.85   |  1.023   | 1.059  |\n",
            "| 13 | 0.505 | 0.556 |      0.82       |    0.427     |    0.233    |        0.521        |    0.803    |      0.01      |      1.258      |  0.071  |  0.616   | 0.944  |\n",
            "| 14 | 1.253 | 1.799 |      0.249      |    0.934     |    0.006    |        0.521        |    0.347    |     0.107      |      0.795      |  0.85   |  1.023   | 1.059  |\n",
            "| 15 | 0.03  | 1.799 |      1.318      |    0.662     |    0.618    |        0.521        |    0.803    |     0.403      |      0.795      |  0.532  |  0.616   | 1.059  |\n",
            "| 16 | 1.681 | 0.556 |      0.82       |    1.207     |    0.142    |        0.521        |    0.803    |      1.03      |      0.795      |  0.85   |  0.616   | 0.944  |\n",
            "| 17 | 1.146 | 1.799 |      1.318      |    0.662     |    0.092    |        0.521        |    0.803    |     0.991      |      0.795      |  0.85   |  1.023   | 1.059  |\n",
            "| 18 | 0.671 | 0.556 |      0.82       |    1.751     |    0.371    |        0.521        |    0.803    |     0.578      |      0.795      |  0.071  |  0.616   | 0.944  |\n",
            "| 19 | 1.894 | 0.556 |      1.318      |    0.662     |    0.559    |        0.521        |    0.803    |     0.795      |      0.795      |  1.913  |  0.616   | 0.944  |\n",
            "| 20 | 1.146 | 1.799 |      2.388      |    1.751     |    0.125    |        0.521        |    0.803    |     0.089      |      0.795      |  0.85   |  1.023   | 1.059  |\n",
            "| 21 | 1.039 | 0.556 |      1.318      |    0.662     |    0.26     |        0.521        |    0.803    |     0.089      |      0.795      |  0.071  |  0.616   | 1.059  |\n",
            "| 22 | 0.505 | 1.799 |      1.318      |    0.444     |    0.092    |        0.521        |    0.803    |     0.951      |      0.795      |  0.85   |  1.023   | 1.059  |\n",
            "| 23 | 1.039 | 0.556 |      1.318      |    0.972     |    0.766    |        0.521        |    0.803    |     0.403      |      1.258      |  1.913  |  0.616   | 0.944  |\n",
            "| 24 | 1.467 | 0.556 |      0.249      |    0.117     |    0.046    |        0.521        |    0.803    |     0.068      |      0.795      |  0.85   |  1.023   | 1.059  |\n",
            "| 25 | 1.894 | 0.556 |      0.249      |    0.117     |    0.013    |        0.521        |    0.803    |      1.5       |      0.795      |  0.85   |  1.023   | 1.059  |\n",
            "| 26 | 0.077 | 0.556 |      0.82       |    0.444     |    0.49     |        0.521        |    0.347    |     1.087      |      1.258      |  1.913  |  0.616   | 1.059  |\n",
            "| 27 | 0.184 | 0.556 |      1.318      |    0.662     |    0.726    |        0.521        |    0.803    |     0.852      |      0.795      |  0.85   |  1.023   | 1.059  |\n",
            "| 28 | 0.077 | 1.799 |      1.318      |    1.043     |    2.541    |        0.521        |    0.803    |     0.499      |      0.795      |  0.85   |  1.023   | 1.059  |\n",
            "| 29 | 0.291 | 0.556 |      1.318      |     0.39     |    0.221    |        0.521        |    0.803    |     0.207      |      0.795      |  0.85   |  1.023   | 1.059  |\n",
            "| 30 | 0.077 | 0.556 |      0.249      |     0.7      |    3.035    |        0.521        |    0.803    |     0.382      |      0.795      |  0.85   |  0.616   | 0.944  |\n",
            "| 31 | 0.244 | 0.556 |      0.249      |    0.117     |    0.428    |        0.521        |    0.803    |     1.009      |      0.795      |  0.85   |  1.023   | 1.059  |\n",
            "| 32 | 0.03  | 0.556 |      0.82       |     0.39     |    0.135    |        0.521        |    0.803    |     0.695      |      0.795      |  0.992  |  0.616   | 0.944  |\n",
            "| 33 | 1.36  | 0.556 |      0.82       |    0.117     |    0.378    |        0.521        |    0.347    |     0.382      |      0.795      |  0.992  |  0.616   | 0.944  |\n",
            "| 34 | 1.146 | 1.799 |      1.318      |    0.972     |    0.24     |        0.521        |    0.803    |     0.559      |      0.795      |  0.85   |  1.023   | 1.059  |\n",
            "| 35 | 2.322 | 0.556 |      1.318      |     0.39     |    0.43     |        0.521        |    0.803    |     0.599      |      0.795      |  0.85   |  1.023   | 1.059  |\n",
            "| 36 | 1.206 | 0.556 |      0.82       |    0.427     |    0.943    |        1.92         |    0.803    |     2.067      |      1.258      |  0.532  |  0.616   | 0.944  |\n",
            "| 37 | 1.36  | 1.799 |      1.318      |    1.207     |    0.391    |        0.521        |    0.347    |     0.089      |      0.795      |  0.85   |  1.023   | 1.059  |\n",
            "| 38 | 0.612 | 1.799 |      1.318      |    0.662     |    0.329    |        1.92         |    0.347    |     0.324      |      0.795      |  0.85   |  1.023   | 1.059  |\n",
            "| 39 | 0.612 | 1.799 |      0.82       |    0.972     |    0.164    |        0.521        |    0.803    |     0.382      |      1.258      |  0.071  |  0.616   | 1.059  |\n",
            "| 40 |  ...  |  ...  |       ...       |     ...      |     ...     |         ...         |     ...     |      ...       |       ...       |   ...   |   ...    |  ...   |\n",
            "+----+-------+-------+-----------------+--------------+-------------+---------------------+-------------+----------------+-----------------+---------+----------+--------+\n"
          ]
        }
      ],
      "source": [
        "z = np.abs(stats.zscore(original_dataframe))                   # Calc z-scores of numeric columns in the dataset\n",
        "z_df = pd.DataFrame(z, columns=original_dataframe.columns)     # زcreate a DataFrame with the z-scores\n",
        "\n",
        "z_df = z_df.round(3)                                           # Round the numeric columns to 3 decimal places\n",
        "\n",
        "ellipsis_row = ['...'] * len(z_df.columns)                     #Add ellipsis to every column ( at the end of the column)\n",
        "z_df_ellipsis = pd.concat([z_df.head(40), pd.DataFrame([ellipsis_row], columns=z_df.columns)])\n",
        "\n",
        "z_df_ellipsis = z_df_ellipsis.reset_index(drop=True)\n",
        "print(tabulate(z_df_ellipsis, headers='keys', tablefmt='pretty', showindex=True)) #table - results"
      ]
    },
    {
      "cell_type": "code",
      "execution_count": null,
      "metadata": {
        "colab": {
          "base_uri": "https://localhost:8080/"
        },
        "id": "lyEhpSlH9bpY",
        "outputId": "de665d53-3d73-4d95-f044-a763fa6796dc"
      },
      "outputs": [
        {
          "output_type": "stream",
          "name": "stdout",
          "text": [
            "Outlier indices:\n",
            "(30, 4)\n",
            "(76, 4)\n",
            "(109, 3)\n",
            "(149, 4)\n",
            "(167, 9)\n",
            "(242, 3)\n",
            "(325, 9)\n",
            "(366, 3)\n",
            "(371, 7)\n",
            "(391, 7)\n",
            "(400, 3)\n",
            "(450, 3)\n",
            "(593, 3)\n",
            "(618, 4)\n",
            "(704, 9)\n",
            "(734, 3)\n",
            "(761, 3)\n",
            "(773, 9)\n",
            "(793, 9)\n",
            "(852, 9)\n",
            "(978, 9)\n",
            "(1010, 9)\n",
            "(1013, 3)\n",
            "(1039, 4)\n",
            "(1070, 9)\n",
            "(1075, 3)\n",
            "(1078, 9)\n",
            "(1172, 9)\n"
          ]
        }
      ],
      "source": [
        "threshold = 3                                                        # Defining threshold for filtering outliers (given in the question)\n",
        "outlier_indices = np.where(z > threshold)                            # Find the indices of the outliers\n",
        "outlier_tuples = list(zip(outlier_indices[0], outlier_indices[1]))   # Convert the indices to tuples\n",
        "\n",
        "print(\"Outlier indices:\")                                            # Print the outlier tuples\n",
        "for index in outlier_tuples:\n",
        "    print(index)"
      ]
    },
    {
      "cell_type": "code",
      "execution_count": null,
      "metadata": {
        "colab": {
          "base_uri": "https://localhost:8080/"
        },
        "id": "5fYuoZZNDVrd",
        "outputId": "fe0cf4e9-f9b0-42f6-f025-85eb142d3418"
      },
      "outputs": [
        {
          "output_type": "execute_result",
          "data": {
            "text/plain": [
              "(1162, 12)"
            ]
          },
          "metadata": {},
          "execution_count": 47
        }
      ],
      "source": [
        "filtered_dataframe = original_dataframe.copy()                   # making a copy of original df\n",
        "filtered_dataframe = filtered_dataframe[(z < 3).all(axis=1)]     # filter the df\n",
        "filtered_dataframe.shape                                         # shape of filtered df"
      ]
    },
    {
      "cell_type": "code",
      "execution_count": null,
      "metadata": {
        "colab": {
          "base_uri": "https://localhost:8080/"
        },
        "id": "F9WHNY5MDVnt",
        "outputId": "bd0679da-b7a5-449e-fafb-a2c0decb1931"
      },
      "outputs": [
        {
          "output_type": "stream",
          "name": "stdout",
          "text": [
            "The shape of original data frame was  (1190, 12)\n",
            "The shape of filtered data frame is   (1162, 12)\n"
          ]
        }
      ],
      "source": [
        "print('The shape of original data frame was ', original_dataframe.shape)\n",
        "print('The shape of filtered data frame is  ', filtered_dataframe.shape)        #compare"
      ]
    },
    {
      "cell_type": "markdown",
      "metadata": {
        "id": "4x0uq2R9G4_z"
      },
      "source": [
        "---\n",
        "\n",
        "### **(C) Data Normalization**\n",
        "\n",
        "Now, for this section, we need to normalize the numeric data (scale it between zero and one).\n"
      ]
    },
    {
      "cell_type": "markdown",
      "metadata": {
        "id": "E-AVcT_UHEmX"
      },
      "source": [
        "In the first section, we checked and confirmed that all the data provided in the dataset is numeric. Therefore, in this section, we only need to normalize the data.\n",
        "\n"
      ]
    },
    {
      "cell_type": "markdown",
      "metadata": {
        "id": "BD6unXYcVJKS"
      },
      "source": [
        "**From the Statistical Learning course last semester and the Deep Learning course this semester, we know that training data and test data should not be normalized together. In other words, the data as a whole should not be used for normalization, as we understand that test data should not be seen before testing and must remain absent throughout all stages. If we normalize the test and training data together without separation, we inadvertently account for the effect of test data on other data, compromising the integrity of unseen test data. This effect may vary in magnitude, but it is inherently incorrect. However, we can split the data into two parts, normalize both, and then allocate a portion of the training data to evaluation data, which is acceptable.**\n"
      ]
    },
    {
      "cell_type": "code",
      "execution_count": null,
      "metadata": {
        "colab": {
          "base_uri": "https://localhost:8080/"
        },
        "id": "nqVa918DGg6B",
        "outputId": "a93d03f3-5449-49bc-889a-5d345ce5c42a"
      },
      "outputs": [
        {
          "output_type": "stream",
          "name": "stdout",
          "text": [
            "Training Set:\n",
            "(813, 11)\n",
            "(813,)\n",
            "\n",
            "Test Set:   \n",
            "(349, 11)\n",
            "(349,)\n"
          ]
        }
      ],
      "source": [
        "X = filtered_dataframe.drop(['target'],axis=1)   # Create 'X' by dropping the target column from filtered df\n",
        "y = filtered_dataframe['target']                 # Create 'y' containing the target column from filtered df\n",
        "\n",
        "X_train, X_test, y_train, y_test = train_test_split(X, y, stratify=y, test_size=0.3,shuffle=True, random_state=42) # Split the data\n",
        "\n",
        "print('Training Set:' )\n",
        "print(X_train.shape   )\n",
        "print(y_train.shape   )\n",
        "\n",
        "print('\\nTest Set:   ')\n",
        "print(X_test.shape    )\n",
        "print(y_test.shape    )"
      ]
    },
    {
      "cell_type": "code",
      "execution_count": null,
      "metadata": {
        "colab": {
          "base_uri": "https://localhost:8080/",
          "height": 206
        },
        "id": "UUjRlplqGg0x",
        "outputId": "8e16affe-34f8-4219-bd96-3c00f91061a4"
      },
      "outputs": [
        {
          "output_type": "execute_result",
          "data": {
            "text/plain": [
              "           age  sex  chest pain type  resting bp s  cholesterol  \\\n",
              "393   0.666667  1.0         1.000000      0.431818     0.000000   \n",
              "243   0.541667  1.0         0.333333      0.772727     0.623932   \n",
              "1152  0.270833  1.0         1.000000      0.500000     0.673077   \n",
              "534   0.708333  1.0         1.000000      0.204545     0.538462   \n",
              "3     0.395833  0.0         1.000000      0.522727     0.457265   \n",
              "\n",
              "      fasting blood sugar  resting ecg  max heart rate  exercise angina  \\\n",
              "393                   0.0          1.0        0.355556              0.0   \n",
              "243                   1.0          0.0        0.562963              1.0   \n",
              "1152                  0.0          0.0        0.429630              1.0   \n",
              "534                   0.0          0.5        0.540741              1.0   \n",
              "3                     0.0          0.0        0.303704              1.0   \n",
              "\n",
              "       oldpeak  ST slope  \n",
              "393   0.333333  0.666667  \n",
              "243   0.666667  0.666667  \n",
              "1152  0.633333  0.666667  \n",
              "534   0.666667  0.666667  \n",
              "3     0.583333  0.666667  "
            ],
            "text/html": [
              "\n",
              "  <div id=\"df-26f263d7-587b-4865-ada3-1c82227eafe4\" class=\"colab-df-container\">\n",
              "    <div>\n",
              "<style scoped>\n",
              "    .dataframe tbody tr th:only-of-type {\n",
              "        vertical-align: middle;\n",
              "    }\n",
              "\n",
              "    .dataframe tbody tr th {\n",
              "        vertical-align: top;\n",
              "    }\n",
              "\n",
              "    .dataframe thead th {\n",
              "        text-align: right;\n",
              "    }\n",
              "</style>\n",
              "<table border=\"1\" class=\"dataframe\">\n",
              "  <thead>\n",
              "    <tr style=\"text-align: right;\">\n",
              "      <th></th>\n",
              "      <th>age</th>\n",
              "      <th>sex</th>\n",
              "      <th>chest pain type</th>\n",
              "      <th>resting bp s</th>\n",
              "      <th>cholesterol</th>\n",
              "      <th>fasting blood sugar</th>\n",
              "      <th>resting ecg</th>\n",
              "      <th>max heart rate</th>\n",
              "      <th>exercise angina</th>\n",
              "      <th>oldpeak</th>\n",
              "      <th>ST slope</th>\n",
              "    </tr>\n",
              "  </thead>\n",
              "  <tbody>\n",
              "    <tr>\n",
              "      <th>393</th>\n",
              "      <td>0.666667</td>\n",
              "      <td>1.0</td>\n",
              "      <td>1.000000</td>\n",
              "      <td>0.431818</td>\n",
              "      <td>0.000000</td>\n",
              "      <td>0.0</td>\n",
              "      <td>1.0</td>\n",
              "      <td>0.355556</td>\n",
              "      <td>0.0</td>\n",
              "      <td>0.333333</td>\n",
              "      <td>0.666667</td>\n",
              "    </tr>\n",
              "    <tr>\n",
              "      <th>243</th>\n",
              "      <td>0.541667</td>\n",
              "      <td>1.0</td>\n",
              "      <td>0.333333</td>\n",
              "      <td>0.772727</td>\n",
              "      <td>0.623932</td>\n",
              "      <td>1.0</td>\n",
              "      <td>0.0</td>\n",
              "      <td>0.562963</td>\n",
              "      <td>1.0</td>\n",
              "      <td>0.666667</td>\n",
              "      <td>0.666667</td>\n",
              "    </tr>\n",
              "    <tr>\n",
              "      <th>1152</th>\n",
              "      <td>0.270833</td>\n",
              "      <td>1.0</td>\n",
              "      <td>1.000000</td>\n",
              "      <td>0.500000</td>\n",
              "      <td>0.673077</td>\n",
              "      <td>0.0</td>\n",
              "      <td>0.0</td>\n",
              "      <td>0.429630</td>\n",
              "      <td>1.0</td>\n",
              "      <td>0.633333</td>\n",
              "      <td>0.666667</td>\n",
              "    </tr>\n",
              "    <tr>\n",
              "      <th>534</th>\n",
              "      <td>0.708333</td>\n",
              "      <td>1.0</td>\n",
              "      <td>1.000000</td>\n",
              "      <td>0.204545</td>\n",
              "      <td>0.538462</td>\n",
              "      <td>0.0</td>\n",
              "      <td>0.5</td>\n",
              "      <td>0.540741</td>\n",
              "      <td>1.0</td>\n",
              "      <td>0.666667</td>\n",
              "      <td>0.666667</td>\n",
              "    </tr>\n",
              "    <tr>\n",
              "      <th>3</th>\n",
              "      <td>0.395833</td>\n",
              "      <td>0.0</td>\n",
              "      <td>1.000000</td>\n",
              "      <td>0.522727</td>\n",
              "      <td>0.457265</td>\n",
              "      <td>0.0</td>\n",
              "      <td>0.0</td>\n",
              "      <td>0.303704</td>\n",
              "      <td>1.0</td>\n",
              "      <td>0.583333</td>\n",
              "      <td>0.666667</td>\n",
              "    </tr>\n",
              "  </tbody>\n",
              "</table>\n",
              "</div>\n",
              "    <div class=\"colab-df-buttons\">\n",
              "\n",
              "  <div class=\"colab-df-container\">\n",
              "    <button class=\"colab-df-convert\" onclick=\"convertToInteractive('df-26f263d7-587b-4865-ada3-1c82227eafe4')\"\n",
              "            title=\"Convert this dataframe to an interactive table.\"\n",
              "            style=\"display:none;\">\n",
              "\n",
              "  <svg xmlns=\"http://www.w3.org/2000/svg\" height=\"24px\" viewBox=\"0 -960 960 960\">\n",
              "    <path d=\"M120-120v-720h720v720H120Zm60-500h600v-160H180v160Zm220 220h160v-160H400v160Zm0 220h160v-160H400v160ZM180-400h160v-160H180v160Zm440 0h160v-160H620v160ZM180-180h160v-160H180v160Zm440 0h160v-160H620v160Z\"/>\n",
              "  </svg>\n",
              "    </button>\n",
              "\n",
              "  <style>\n",
              "    .colab-df-container {\n",
              "      display:flex;\n",
              "      gap: 12px;\n",
              "    }\n",
              "\n",
              "    .colab-df-convert {\n",
              "      background-color: #E8F0FE;\n",
              "      border: none;\n",
              "      border-radius: 50%;\n",
              "      cursor: pointer;\n",
              "      display: none;\n",
              "      fill: #1967D2;\n",
              "      height: 32px;\n",
              "      padding: 0 0 0 0;\n",
              "      width: 32px;\n",
              "    }\n",
              "\n",
              "    .colab-df-convert:hover {\n",
              "      background-color: #E2EBFA;\n",
              "      box-shadow: 0px 1px 2px rgba(60, 64, 67, 0.3), 0px 1px 3px 1px rgba(60, 64, 67, 0.15);\n",
              "      fill: #174EA6;\n",
              "    }\n",
              "\n",
              "    .colab-df-buttons div {\n",
              "      margin-bottom: 4px;\n",
              "    }\n",
              "\n",
              "    [theme=dark] .colab-df-convert {\n",
              "      background-color: #3B4455;\n",
              "      fill: #D2E3FC;\n",
              "    }\n",
              "\n",
              "    [theme=dark] .colab-df-convert:hover {\n",
              "      background-color: #434B5C;\n",
              "      box-shadow: 0px 1px 3px 1px rgba(0, 0, 0, 0.15);\n",
              "      filter: drop-shadow(0px 1px 2px rgba(0, 0, 0, 0.3));\n",
              "      fill: #FFFFFF;\n",
              "    }\n",
              "  </style>\n",
              "\n",
              "    <script>\n",
              "      const buttonEl =\n",
              "        document.querySelector('#df-26f263d7-587b-4865-ada3-1c82227eafe4 button.colab-df-convert');\n",
              "      buttonEl.style.display =\n",
              "        google.colab.kernel.accessAllowed ? 'block' : 'none';\n",
              "\n",
              "      async function convertToInteractive(key) {\n",
              "        const element = document.querySelector('#df-26f263d7-587b-4865-ada3-1c82227eafe4');\n",
              "        const dataTable =\n",
              "          await google.colab.kernel.invokeFunction('convertToInteractive',\n",
              "                                                    [key], {});\n",
              "        if (!dataTable) return;\n",
              "\n",
              "        const docLinkHtml = 'Like what you see? Visit the ' +\n",
              "          '<a target=\"_blank\" href=https://colab.research.google.com/notebooks/data_table.ipynb>data table notebook</a>'\n",
              "          + ' to learn more about interactive tables.';\n",
              "        element.innerHTML = '';\n",
              "        dataTable['output_type'] = 'display_data';\n",
              "        await google.colab.output.renderOutput(dataTable, element);\n",
              "        const docLink = document.createElement('div');\n",
              "        docLink.innerHTML = docLinkHtml;\n",
              "        element.appendChild(docLink);\n",
              "      }\n",
              "    </script>\n",
              "  </div>\n",
              "\n",
              "\n",
              "<div id=\"df-33db0b12-0ae3-4db5-85f6-b05e7943b8c4\">\n",
              "  <button class=\"colab-df-quickchart\" onclick=\"quickchart('df-33db0b12-0ae3-4db5-85f6-b05e7943b8c4')\"\n",
              "            title=\"Suggest charts.\"\n",
              "            style=\"display:none;\">\n",
              "\n",
              "<svg xmlns=\"http://www.w3.org/2000/svg\" height=\"24px\"viewBox=\"0 0 24 24\"\n",
              "     width=\"24px\">\n",
              "    <g>\n",
              "        <path d=\"M19 3H5c-1.1 0-2 .9-2 2v14c0 1.1.9 2 2 2h14c1.1 0 2-.9 2-2V5c0-1.1-.9-2-2-2zM9 17H7v-7h2v7zm4 0h-2V7h2v10zm4 0h-2v-4h2v4z\"/>\n",
              "    </g>\n",
              "</svg>\n",
              "  </button>\n",
              "\n",
              "<style>\n",
              "  .colab-df-quickchart {\n",
              "      --bg-color: #E8F0FE;\n",
              "      --fill-color: #1967D2;\n",
              "      --hover-bg-color: #E2EBFA;\n",
              "      --hover-fill-color: #174EA6;\n",
              "      --disabled-fill-color: #AAA;\n",
              "      --disabled-bg-color: #DDD;\n",
              "  }\n",
              "\n",
              "  [theme=dark] .colab-df-quickchart {\n",
              "      --bg-color: #3B4455;\n",
              "      --fill-color: #D2E3FC;\n",
              "      --hover-bg-color: #434B5C;\n",
              "      --hover-fill-color: #FFFFFF;\n",
              "      --disabled-bg-color: #3B4455;\n",
              "      --disabled-fill-color: #666;\n",
              "  }\n",
              "\n",
              "  .colab-df-quickchart {\n",
              "    background-color: var(--bg-color);\n",
              "    border: none;\n",
              "    border-radius: 50%;\n",
              "    cursor: pointer;\n",
              "    display: none;\n",
              "    fill: var(--fill-color);\n",
              "    height: 32px;\n",
              "    padding: 0;\n",
              "    width: 32px;\n",
              "  }\n",
              "\n",
              "  .colab-df-quickchart:hover {\n",
              "    background-color: var(--hover-bg-color);\n",
              "    box-shadow: 0 1px 2px rgba(60, 64, 67, 0.3), 0 1px 3px 1px rgba(60, 64, 67, 0.15);\n",
              "    fill: var(--button-hover-fill-color);\n",
              "  }\n",
              "\n",
              "  .colab-df-quickchart-complete:disabled,\n",
              "  .colab-df-quickchart-complete:disabled:hover {\n",
              "    background-color: var(--disabled-bg-color);\n",
              "    fill: var(--disabled-fill-color);\n",
              "    box-shadow: none;\n",
              "  }\n",
              "\n",
              "  .colab-df-spinner {\n",
              "    border: 2px solid var(--fill-color);\n",
              "    border-color: transparent;\n",
              "    border-bottom-color: var(--fill-color);\n",
              "    animation:\n",
              "      spin 1s steps(1) infinite;\n",
              "  }\n",
              "\n",
              "  @keyframes spin {\n",
              "    0% {\n",
              "      border-color: transparent;\n",
              "      border-bottom-color: var(--fill-color);\n",
              "      border-left-color: var(--fill-color);\n",
              "    }\n",
              "    20% {\n",
              "      border-color: transparent;\n",
              "      border-left-color: var(--fill-color);\n",
              "      border-top-color: var(--fill-color);\n",
              "    }\n",
              "    30% {\n",
              "      border-color: transparent;\n",
              "      border-left-color: var(--fill-color);\n",
              "      border-top-color: var(--fill-color);\n",
              "      border-right-color: var(--fill-color);\n",
              "    }\n",
              "    40% {\n",
              "      border-color: transparent;\n",
              "      border-right-color: var(--fill-color);\n",
              "      border-top-color: var(--fill-color);\n",
              "    }\n",
              "    60% {\n",
              "      border-color: transparent;\n",
              "      border-right-color: var(--fill-color);\n",
              "    }\n",
              "    80% {\n",
              "      border-color: transparent;\n",
              "      border-right-color: var(--fill-color);\n",
              "      border-bottom-color: var(--fill-color);\n",
              "    }\n",
              "    90% {\n",
              "      border-color: transparent;\n",
              "      border-bottom-color: var(--fill-color);\n",
              "    }\n",
              "  }\n",
              "</style>\n",
              "\n",
              "  <script>\n",
              "    async function quickchart(key) {\n",
              "      const quickchartButtonEl =\n",
              "        document.querySelector('#' + key + ' button');\n",
              "      quickchartButtonEl.disabled = true;  // To prevent multiple clicks.\n",
              "      quickchartButtonEl.classList.add('colab-df-spinner');\n",
              "      try {\n",
              "        const charts = await google.colab.kernel.invokeFunction(\n",
              "            'suggestCharts', [key], {});\n",
              "      } catch (error) {\n",
              "        console.error('Error during call to suggestCharts:', error);\n",
              "      }\n",
              "      quickchartButtonEl.classList.remove('colab-df-spinner');\n",
              "      quickchartButtonEl.classList.add('colab-df-quickchart-complete');\n",
              "    }\n",
              "    (() => {\n",
              "      let quickchartButtonEl =\n",
              "        document.querySelector('#df-33db0b12-0ae3-4db5-85f6-b05e7943b8c4 button');\n",
              "      quickchartButtonEl.style.display =\n",
              "        google.colab.kernel.accessAllowed ? 'block' : 'none';\n",
              "    })();\n",
              "  </script>\n",
              "</div>\n",
              "    </div>\n",
              "  </div>\n"
            ]
          },
          "metadata": {},
          "execution_count": 50
        }
      ],
      "source": [
        "scaler = MinMaxScaler()\n",
        "X_train[['age', 'sex', 'chest pain type', 'resting bp s', 'cholesterol',\n",
        "       'fasting blood sugar', 'resting ecg', 'max heart rate',\n",
        "       'exercise angina', 'oldpeak', 'ST slope']] = scaler.fit_transform(X_train[['age', 'sex', 'chest pain type', 'resting bp s', 'cholesterol',\n",
        "       'fasting blood sugar', 'resting ecg', 'max heart rate',\n",
        "       'exercise angina', 'oldpeak', 'ST slope']])\n",
        "X_train.head()"
      ]
    },
    {
      "cell_type": "code",
      "execution_count": null,
      "metadata": {
        "colab": {
          "base_uri": "https://localhost:8080/",
          "height": 206
        },
        "id": "f4Bv7XxvGgxz",
        "outputId": "6553e89b-c251-44bf-ed4f-8fb6afbaee79"
      },
      "outputs": [
        {
          "output_type": "execute_result",
          "data": {
            "text/plain": [
              "           age  sex  chest pain type  resting bp s  cholesterol  \\\n",
              "682   0.604167  1.0         1.000000      0.666667     0.562118   \n",
              "963   0.666667  1.0         1.000000      0.428571     0.525458   \n",
              "419   0.666667  1.0         1.000000      0.495238     0.443992   \n",
              "1140  0.479167  0.0         0.666667      0.380952     0.600815   \n",
              "507   0.979167  1.0         1.000000      0.533333     0.458248   \n",
              "\n",
              "      fasting blood sugar  resting ecg  max heart rate  exercise angina  \\\n",
              "682                   0.0          1.0        0.323308              1.0   \n",
              "963                   0.0          1.0        0.541353              1.0   \n",
              "419                   0.0          0.5        0.533835              1.0   \n",
              "1140                  0.0          1.0        0.661654              0.0   \n",
              "507                   0.0          0.0        0.323308              1.0   \n",
              "\n",
              "      oldpeak  ST slope  \n",
              "682      0.32       0.5  \n",
              "963      0.76       0.5  \n",
              "419      0.50       1.0  \n",
              "1140     0.32       0.0  \n",
              "507      0.80       0.5  "
            ],
            "text/html": [
              "\n",
              "  <div id=\"df-088b6358-c1b6-4621-b6e2-939cc24bc612\" class=\"colab-df-container\">\n",
              "    <div>\n",
              "<style scoped>\n",
              "    .dataframe tbody tr th:only-of-type {\n",
              "        vertical-align: middle;\n",
              "    }\n",
              "\n",
              "    .dataframe tbody tr th {\n",
              "        vertical-align: top;\n",
              "    }\n",
              "\n",
              "    .dataframe thead th {\n",
              "        text-align: right;\n",
              "    }\n",
              "</style>\n",
              "<table border=\"1\" class=\"dataframe\">\n",
              "  <thead>\n",
              "    <tr style=\"text-align: right;\">\n",
              "      <th></th>\n",
              "      <th>age</th>\n",
              "      <th>sex</th>\n",
              "      <th>chest pain type</th>\n",
              "      <th>resting bp s</th>\n",
              "      <th>cholesterol</th>\n",
              "      <th>fasting blood sugar</th>\n",
              "      <th>resting ecg</th>\n",
              "      <th>max heart rate</th>\n",
              "      <th>exercise angina</th>\n",
              "      <th>oldpeak</th>\n",
              "      <th>ST slope</th>\n",
              "    </tr>\n",
              "  </thead>\n",
              "  <tbody>\n",
              "    <tr>\n",
              "      <th>682</th>\n",
              "      <td>0.604167</td>\n",
              "      <td>1.0</td>\n",
              "      <td>1.000000</td>\n",
              "      <td>0.666667</td>\n",
              "      <td>0.562118</td>\n",
              "      <td>0.0</td>\n",
              "      <td>1.0</td>\n",
              "      <td>0.323308</td>\n",
              "      <td>1.0</td>\n",
              "      <td>0.32</td>\n",
              "      <td>0.5</td>\n",
              "    </tr>\n",
              "    <tr>\n",
              "      <th>963</th>\n",
              "      <td>0.666667</td>\n",
              "      <td>1.0</td>\n",
              "      <td>1.000000</td>\n",
              "      <td>0.428571</td>\n",
              "      <td>0.525458</td>\n",
              "      <td>0.0</td>\n",
              "      <td>1.0</td>\n",
              "      <td>0.541353</td>\n",
              "      <td>1.0</td>\n",
              "      <td>0.76</td>\n",
              "      <td>0.5</td>\n",
              "    </tr>\n",
              "    <tr>\n",
              "      <th>419</th>\n",
              "      <td>0.666667</td>\n",
              "      <td>1.0</td>\n",
              "      <td>1.000000</td>\n",
              "      <td>0.495238</td>\n",
              "      <td>0.443992</td>\n",
              "      <td>0.0</td>\n",
              "      <td>0.5</td>\n",
              "      <td>0.533835</td>\n",
              "      <td>1.0</td>\n",
              "      <td>0.50</td>\n",
              "      <td>1.0</td>\n",
              "    </tr>\n",
              "    <tr>\n",
              "      <th>1140</th>\n",
              "      <td>0.479167</td>\n",
              "      <td>0.0</td>\n",
              "      <td>0.666667</td>\n",
              "      <td>0.380952</td>\n",
              "      <td>0.600815</td>\n",
              "      <td>0.0</td>\n",
              "      <td>1.0</td>\n",
              "      <td>0.661654</td>\n",
              "      <td>0.0</td>\n",
              "      <td>0.32</td>\n",
              "      <td>0.0</td>\n",
              "    </tr>\n",
              "    <tr>\n",
              "      <th>507</th>\n",
              "      <td>0.979167</td>\n",
              "      <td>1.0</td>\n",
              "      <td>1.000000</td>\n",
              "      <td>0.533333</td>\n",
              "      <td>0.458248</td>\n",
              "      <td>0.0</td>\n",
              "      <td>0.0</td>\n",
              "      <td>0.323308</td>\n",
              "      <td>1.0</td>\n",
              "      <td>0.80</td>\n",
              "      <td>0.5</td>\n",
              "    </tr>\n",
              "  </tbody>\n",
              "</table>\n",
              "</div>\n",
              "    <div class=\"colab-df-buttons\">\n",
              "\n",
              "  <div class=\"colab-df-container\">\n",
              "    <button class=\"colab-df-convert\" onclick=\"convertToInteractive('df-088b6358-c1b6-4621-b6e2-939cc24bc612')\"\n",
              "            title=\"Convert this dataframe to an interactive table.\"\n",
              "            style=\"display:none;\">\n",
              "\n",
              "  <svg xmlns=\"http://www.w3.org/2000/svg\" height=\"24px\" viewBox=\"0 -960 960 960\">\n",
              "    <path d=\"M120-120v-720h720v720H120Zm60-500h600v-160H180v160Zm220 220h160v-160H400v160Zm0 220h160v-160H400v160ZM180-400h160v-160H180v160Zm440 0h160v-160H620v160ZM180-180h160v-160H180v160Zm440 0h160v-160H620v160Z\"/>\n",
              "  </svg>\n",
              "    </button>\n",
              "\n",
              "  <style>\n",
              "    .colab-df-container {\n",
              "      display:flex;\n",
              "      gap: 12px;\n",
              "    }\n",
              "\n",
              "    .colab-df-convert {\n",
              "      background-color: #E8F0FE;\n",
              "      border: none;\n",
              "      border-radius: 50%;\n",
              "      cursor: pointer;\n",
              "      display: none;\n",
              "      fill: #1967D2;\n",
              "      height: 32px;\n",
              "      padding: 0 0 0 0;\n",
              "      width: 32px;\n",
              "    }\n",
              "\n",
              "    .colab-df-convert:hover {\n",
              "      background-color: #E2EBFA;\n",
              "      box-shadow: 0px 1px 2px rgba(60, 64, 67, 0.3), 0px 1px 3px 1px rgba(60, 64, 67, 0.15);\n",
              "      fill: #174EA6;\n",
              "    }\n",
              "\n",
              "    .colab-df-buttons div {\n",
              "      margin-bottom: 4px;\n",
              "    }\n",
              "\n",
              "    [theme=dark] .colab-df-convert {\n",
              "      background-color: #3B4455;\n",
              "      fill: #D2E3FC;\n",
              "    }\n",
              "\n",
              "    [theme=dark] .colab-df-convert:hover {\n",
              "      background-color: #434B5C;\n",
              "      box-shadow: 0px 1px 3px 1px rgba(0, 0, 0, 0.15);\n",
              "      filter: drop-shadow(0px 1px 2px rgba(0, 0, 0, 0.3));\n",
              "      fill: #FFFFFF;\n",
              "    }\n",
              "  </style>\n",
              "\n",
              "    <script>\n",
              "      const buttonEl =\n",
              "        document.querySelector('#df-088b6358-c1b6-4621-b6e2-939cc24bc612 button.colab-df-convert');\n",
              "      buttonEl.style.display =\n",
              "        google.colab.kernel.accessAllowed ? 'block' : 'none';\n",
              "\n",
              "      async function convertToInteractive(key) {\n",
              "        const element = document.querySelector('#df-088b6358-c1b6-4621-b6e2-939cc24bc612');\n",
              "        const dataTable =\n",
              "          await google.colab.kernel.invokeFunction('convertToInteractive',\n",
              "                                                    [key], {});\n",
              "        if (!dataTable) return;\n",
              "\n",
              "        const docLinkHtml = 'Like what you see? Visit the ' +\n",
              "          '<a target=\"_blank\" href=https://colab.research.google.com/notebooks/data_table.ipynb>data table notebook</a>'\n",
              "          + ' to learn more about interactive tables.';\n",
              "        element.innerHTML = '';\n",
              "        dataTable['output_type'] = 'display_data';\n",
              "        await google.colab.output.renderOutput(dataTable, element);\n",
              "        const docLink = document.createElement('div');\n",
              "        docLink.innerHTML = docLinkHtml;\n",
              "        element.appendChild(docLink);\n",
              "      }\n",
              "    </script>\n",
              "  </div>\n",
              "\n",
              "\n",
              "<div id=\"df-870e6a32-86fb-4c63-95ef-36386b76d02c\">\n",
              "  <button class=\"colab-df-quickchart\" onclick=\"quickchart('df-870e6a32-86fb-4c63-95ef-36386b76d02c')\"\n",
              "            title=\"Suggest charts.\"\n",
              "            style=\"display:none;\">\n",
              "\n",
              "<svg xmlns=\"http://www.w3.org/2000/svg\" height=\"24px\"viewBox=\"0 0 24 24\"\n",
              "     width=\"24px\">\n",
              "    <g>\n",
              "        <path d=\"M19 3H5c-1.1 0-2 .9-2 2v14c0 1.1.9 2 2 2h14c1.1 0 2-.9 2-2V5c0-1.1-.9-2-2-2zM9 17H7v-7h2v7zm4 0h-2V7h2v10zm4 0h-2v-4h2v4z\"/>\n",
              "    </g>\n",
              "</svg>\n",
              "  </button>\n",
              "\n",
              "<style>\n",
              "  .colab-df-quickchart {\n",
              "      --bg-color: #E8F0FE;\n",
              "      --fill-color: #1967D2;\n",
              "      --hover-bg-color: #E2EBFA;\n",
              "      --hover-fill-color: #174EA6;\n",
              "      --disabled-fill-color: #AAA;\n",
              "      --disabled-bg-color: #DDD;\n",
              "  }\n",
              "\n",
              "  [theme=dark] .colab-df-quickchart {\n",
              "      --bg-color: #3B4455;\n",
              "      --fill-color: #D2E3FC;\n",
              "      --hover-bg-color: #434B5C;\n",
              "      --hover-fill-color: #FFFFFF;\n",
              "      --disabled-bg-color: #3B4455;\n",
              "      --disabled-fill-color: #666;\n",
              "  }\n",
              "\n",
              "  .colab-df-quickchart {\n",
              "    background-color: var(--bg-color);\n",
              "    border: none;\n",
              "    border-radius: 50%;\n",
              "    cursor: pointer;\n",
              "    display: none;\n",
              "    fill: var(--fill-color);\n",
              "    height: 32px;\n",
              "    padding: 0;\n",
              "    width: 32px;\n",
              "  }\n",
              "\n",
              "  .colab-df-quickchart:hover {\n",
              "    background-color: var(--hover-bg-color);\n",
              "    box-shadow: 0 1px 2px rgba(60, 64, 67, 0.3), 0 1px 3px 1px rgba(60, 64, 67, 0.15);\n",
              "    fill: var(--button-hover-fill-color);\n",
              "  }\n",
              "\n",
              "  .colab-df-quickchart-complete:disabled,\n",
              "  .colab-df-quickchart-complete:disabled:hover {\n",
              "    background-color: var(--disabled-bg-color);\n",
              "    fill: var(--disabled-fill-color);\n",
              "    box-shadow: none;\n",
              "  }\n",
              "\n",
              "  .colab-df-spinner {\n",
              "    border: 2px solid var(--fill-color);\n",
              "    border-color: transparent;\n",
              "    border-bottom-color: var(--fill-color);\n",
              "    animation:\n",
              "      spin 1s steps(1) infinite;\n",
              "  }\n",
              "\n",
              "  @keyframes spin {\n",
              "    0% {\n",
              "      border-color: transparent;\n",
              "      border-bottom-color: var(--fill-color);\n",
              "      border-left-color: var(--fill-color);\n",
              "    }\n",
              "    20% {\n",
              "      border-color: transparent;\n",
              "      border-left-color: var(--fill-color);\n",
              "      border-top-color: var(--fill-color);\n",
              "    }\n",
              "    30% {\n",
              "      border-color: transparent;\n",
              "      border-left-color: var(--fill-color);\n",
              "      border-top-color: var(--fill-color);\n",
              "      border-right-color: var(--fill-color);\n",
              "    }\n",
              "    40% {\n",
              "      border-color: transparent;\n",
              "      border-right-color: var(--fill-color);\n",
              "      border-top-color: var(--fill-color);\n",
              "    }\n",
              "    60% {\n",
              "      border-color: transparent;\n",
              "      border-right-color: var(--fill-color);\n",
              "    }\n",
              "    80% {\n",
              "      border-color: transparent;\n",
              "      border-right-color: var(--fill-color);\n",
              "      border-bottom-color: var(--fill-color);\n",
              "    }\n",
              "    90% {\n",
              "      border-color: transparent;\n",
              "      border-bottom-color: var(--fill-color);\n",
              "    }\n",
              "  }\n",
              "</style>\n",
              "\n",
              "  <script>\n",
              "    async function quickchart(key) {\n",
              "      const quickchartButtonEl =\n",
              "        document.querySelector('#' + key + ' button');\n",
              "      quickchartButtonEl.disabled = true;  // To prevent multiple clicks.\n",
              "      quickchartButtonEl.classList.add('colab-df-spinner');\n",
              "      try {\n",
              "        const charts = await google.colab.kernel.invokeFunction(\n",
              "            'suggestCharts', [key], {});\n",
              "      } catch (error) {\n",
              "        console.error('Error during call to suggestCharts:', error);\n",
              "      }\n",
              "      quickchartButtonEl.classList.remove('colab-df-spinner');\n",
              "      quickchartButtonEl.classList.add('colab-df-quickchart-complete');\n",
              "    }\n",
              "    (() => {\n",
              "      let quickchartButtonEl =\n",
              "        document.querySelector('#df-870e6a32-86fb-4c63-95ef-36386b76d02c button');\n",
              "      quickchartButtonEl.style.display =\n",
              "        google.colab.kernel.accessAllowed ? 'block' : 'none';\n",
              "    })();\n",
              "  </script>\n",
              "</div>\n",
              "    </div>\n",
              "  </div>\n"
            ]
          },
          "metadata": {},
          "execution_count": 51
        }
      ],
      "source": [
        "scaler = MinMaxScaler()\n",
        "X_test[['age', 'sex', 'chest pain type', 'resting bp s', 'cholesterol',\n",
        "       'fasting blood sugar', 'resting ecg', 'max heart rate',\n",
        "       'exercise angina', 'oldpeak', 'ST slope']] = scaler.fit_transform(X_test[['age', 'sex', 'chest pain type', 'resting bp s', 'cholesterol',\n",
        "       'fasting blood sugar', 'resting ecg', 'max heart rate',\n",
        "       'exercise angina', 'oldpeak', 'ST slope']])\n",
        "X_test.head()"
      ]
    },
    {
      "cell_type": "markdown",
      "metadata": {
        "id": "BOjdg-TqX0hf"
      },
      "source": [
        "---\n",
        "\n",
        "### **(D)**\n",
        "\n",
        "The separation of data for training and testing was performed in section (C), and the necessary explanations have been provided. I explained why I decided to separate the data in the previous section and then normalize each group. In summary, this approach is correct because even in normalization, the effect of test data on training data is not applied, and the test data remains genuinely unseen, even though their values have all been normalized between zero and one."
      ]
    },
    {
      "cell_type": "markdown",
      "metadata": {
        "id": "QulE74-PY-yX"
      },
      "source": [
        "Now, we will perform training **using different kernels** for **Support Vector Machines (SVM)**:\n",
        "\n",
        "1. *Linear*\n",
        "2. *RBF*\n",
        "3. *Polynomial*\n"
      ]
    },
    {
      "cell_type": "markdown",
      "metadata": {
        "id": "4JQ3lFTNZgIF"
      },
      "source": [
        "In this section, the objective is to adjust the parameters for each kernel in order to achieve the highest accuracy.\n"
      ]
    },
    {
      "cell_type": "code",
      "execution_count": null,
      "metadata": {
        "id": "v1KVVpcvgZGE"
      },
      "outputs": [],
      "source": [
        "# Split the training data into training and validation sets\n",
        "X_subtrain, X_val, y_subtrain, y_val = train_test_split(X_train, y_train, test_size=0.1, shuffle=True, random_state=42)"
      ]
    },
    {
      "cell_type": "markdown",
      "metadata": {
        "id": "QR-UtJNfe6M-"
      },
      "source": [
        "### **Linear Kernel :**"
      ]
    },
    {
      "cell_type": "code",
      "execution_count": null,
      "metadata": {
        "colab": {
          "base_uri": "https://localhost:8080/"
        },
        "id": "8J2WFgQFe2UW",
        "outputId": "badf427e-ab39-4476-9980-a1a1a296ed55"
      },
      "outputs": [
        {
          "output_type": "stream",
          "name": "stdout",
          "text": [
            "C =   0.001    , accuracy: 0.573170731707317\n",
            "C =   0.01     , accuracy: 0.8170731707317073\n",
            "C =   0.05     , accuracy: 0.8780487804878049\n",
            "C =   0.1      , accuracy: 0.8658536585365854\n",
            "C =   1        , accuracy: 0.8658536585365854\n",
            "C =   10       , accuracy: 0.8658536585365854\n"
          ]
        }
      ],
      "source": [
        "C_values = [0.001, 0.01,0.05, 0.1, 1, 10]                                       # declare a range of C values to test\n",
        "linear_accuracy_list=[]                                                         # empty list\n",
        "\n",
        "for C in C_values:\n",
        "    svm_classifier = SVC(C=C, kernel='linear')                                  # Create an SVM classifier with a linear kernel\n",
        "    svm_classifier.fit(X_subtrain, y_subtrain)                                  # Train the classifier on the sub training data\n",
        "    y_pred_linear = svm_classifier.predict(X_val)                               # make predictions on the validation data\n",
        "    linear_accuracy = accuracy_score(y_val, y_pred_linear)                      # Evaluate the accuracy of the classifier on validation data to find best C\n",
        "    linear_accuracy_list.append(linear_accuracy)\n",
        "\n",
        "for i in range (len(C_values)):\n",
        "    print(f\"C =   {C_values[i]:<8} , accuracy: {linear_accuracy_list[i]}\")      #results\n"
      ]
    },
    {
      "cell_type": "code",
      "execution_count": null,
      "metadata": {
        "colab": {
          "base_uri": "https://localhost:8080/"
        },
        "id": "iytJVUw5e2RH",
        "outputId": "0eb6a2b8-7706-4e7d-aa0b-bb284bf8bfad"
      },
      "outputs": [
        {
          "output_type": "stream",
          "name": "stdout",
          "text": [
            "Best C: 0.05\n",
            "\n",
            "Maximum Validation Accuracy: 0.8780487804878049\n",
            "Test Accuracy              : 0.8022922636103151\n"
          ]
        }
      ],
      "source": [
        "max_accuracy = max(linear_accuracy_list)                                        # Find the maximum accuracy and its corresponding C value\n",
        "max_index    = linear_accuracy_list.index(max_accuracy)\n",
        "best_C       = C_values[max_index]\n",
        "\n",
        "best_svm_classifier = SVC(C=best_C, kernel='linear')                            # Retrain the model using the best C value on the combined training and validation data\n",
        "best_svm_classifier.fit(np.concatenate((X_subtrain, X_val)), np.concatenate((y_subtrain, y_val)))\n",
        "\n",
        "y_pred_test   = best_svm_classifier.predict(X_test)                             # Make predictions on the test data\n",
        "accuracy_test = accuracy_score(y_test, y_pred_test)                             # Evaluate the accuracy of the classifier on the test set\n",
        "\n",
        "import warnings\n",
        "warnings.filterwarnings('ignore')                                               # Settings the warnings to be ignored\n",
        "\n",
        "print(\"Best C:\"                     , best_C       )\n",
        "print(\"\\nMaximum Validation Accuracy:\", max_accuracy )\n",
        "print(\"Test Accuracy              :\", accuracy_test)"
      ]
    },
    {
      "cell_type": "code",
      "execution_count": null,
      "metadata": {
        "colab": {
          "base_uri": "https://localhost:8080/"
        },
        "id": "DtC0-u18e2Kl",
        "outputId": "119ca52d-6f0b-4a65-ab98-8eb76f4946bf"
      },
      "outputs": [
        {
          "output_type": "stream",
          "name": "stdout",
          "text": [
            "--------------Linear Kernel------------\n",
            "Best C:                      0.05\n",
            "---------------------------------------\n",
            "Maximum Validation Accuracy: 0.8780487804878049\n",
            "Test Accuracy                0.8022922636103151\n",
            "---------------------------------------\n",
            "Precision:                   0.869281045751634\n",
            "Recall:                      0.7307692307692307\n",
            "F1 Score:                    0.7940298507462685\n"
          ]
        }
      ],
      "source": [
        "# Calculate precision, recall, and F1 score\n",
        "precision = precision_score(y_test, y_pred_test)\n",
        "recall    = recall_score   (y_test, y_pred_test)\n",
        "f1        = f1_score       (y_test, y_pred_test)\n",
        "\n",
        "print(\"--------------Linear Kernel------------\"    )\n",
        "print(\"Best C:                     \", best_C       )\n",
        "print(\"---------------------------------------\"    )\n",
        "print(\"Maximum Validation Accuracy:\", max_accuracy )\n",
        "print(\"Test Accuracy               \", accuracy_test)\n",
        "print(\"---------------------------------------\"    )\n",
        "print(\"Precision:                  \", precision    )\n",
        "print(\"Recall:                     \", recall       )\n",
        "print(\"F1 Score:                   \", f1           )"
      ]
    },
    {
      "cell_type": "code",
      "execution_count": null,
      "metadata": {
        "colab": {
          "base_uri": "https://localhost:8080/",
          "height": 472
        },
        "id": "4MIKHLZue2Nm",
        "outputId": "dc305b84-1b60-4dde-e888-181a3d68e47b"
      },
      "outputs": [
        {
          "output_type": "display_data",
          "data": {
            "text/plain": [
              "<Figure size 640x480 with 2 Axes>"
            ],
            "image/png": "[encoded data removed]"
          },
          "metadata": {}
        }
      ],
      "source": [
        "#######################################################################################\n",
        "# This cell contains additional information beyond the scope of the original question.#\n",
        "#######################################################################################\n",
        "CM_Linear=confusion_matrix(y_test,y_pred_test)\n",
        "sns.heatmap(CM_Linear, annot=True, cmap='binary')\n",
        "plt.xlabel('Predicted'                    )\n",
        "plt.ylabel('Actual'                       )\n",
        "plt.title ('Confusion Matrix - Linear SVM')\n",
        "plt.show()"
      ]
    },
    {
      "cell_type": "markdown",
      "source": [
        "As observed, the main diagonal of our confusion matrix is highlighted, while the secondary diagonal is comparatively less filled and lighter. We know that the more prominent the main diagonal (in this case, the darker it is), the better the classification performance.\n"
      ],
      "metadata": {
        "id": "mGkStgR9M3is"
      }
    },
    {
      "cell_type": "markdown",
      "metadata": {
        "id": "B_5Thu9qpV8-"
      },
      "source": [
        "### **RBF Kernel**"
      ]
    },
    {
      "cell_type": "code",
      "execution_count": null,
      "metadata": {
        "colab": {
          "base_uri": "https://localhost:8080/"
        },
        "id": "LduaWuCspdu2",
        "outputId": "706cffd2-7ff5-4086-9646-5da686bc28a5"
      },
      "outputs": [
        {
          "output_type": "stream",
          "name": "stdout",
          "text": [
            "gamma =   0.001    , RBF_accuracy: 0.573170731707317\n",
            "gamma =   0.1      , RBF_accuracy: 0.8658536585365854\n",
            "gamma =   0.5      , RBF_accuracy: 0.8780487804878049\n",
            "gamma =   1        , RBF_accuracy: 0.8902439024390244\n",
            "gamma =   3        , RBF_accuracy: 0.8780487804878049\n",
            "gamma =   5        , RBF_accuracy: 0.8780487804878049\n",
            "gamma =   7        , RBF_accuracy: 0.9024390243902439\n",
            "gamma =   10       , RBF_accuracy: 0.9024390243902439\n",
            "gamma =   100      , RBF_accuracy: 0.8292682926829268\n",
            "gamma =   10000    , RBF_accuracy: 0.7195121951219512\n"
          ]
        }
      ],
      "source": [
        "gamma_values      = [0.001, 0.1,0.5, 1,3,5,7, 10,100,10000]                       # Declare a range of gamma values to test\n",
        "rbf_accuracy_list = []                                                          #empty list for future use\n",
        "\n",
        "for gamma in gamma_values:\n",
        "    rbf_classifier = SVC(kernel='rbf', gamma = gamma)                           # Create an SVM classifier with a rbf kernel\n",
        "    rbf_classifier.fit(X_subtrain, y_subtrain)                                  # Train the classifier on the sub training data\n",
        "    y_pred_rbf     = rbf_classifier.predict(X_val)                              # Make predictions on the   validation data\n",
        "    rbf_accuracy   = accuracy_score(y_val, y_pred_rbf)                          # Evaluate the accuracy of the classifier\n",
        "    rbf_accuracy_list.append(rbf_accuracy)\n",
        "\n",
        "for i in range (len(gamma_values)):\n",
        "    print(f\"gamma =   {gamma_values[i]:<8} , RBF_accuracy: {rbf_accuracy_list[i]}\")\n"
      ]
    },
    {
      "cell_type": "code",
      "execution_count": null,
      "metadata": {
        "colab": {
          "base_uri": "https://localhost:8080/"
        },
        "id": "pq2ECV-he2HD",
        "outputId": "e3a8f43d-7291-41ad-8692-91b3e28179b9"
      },
      "outputs": [
        {
          "output_type": "stream",
          "name": "stdout",
          "text": [
            "Best gamma: 7\n",
            "Maximum Validation Accuracy: 0.9024390243902439\n",
            "Test Accuracy: 0.8452722063037249\n"
          ]
        }
      ],
      "source": [
        "rbf_max_accuracy = max(rbf_accuracy_list)                                       # Find the maximum accuracy and its corresponding gamma value\n",
        "rbf_max_index    = rbf_accuracy_list.index(rbf_max_accuracy)\n",
        "best_gamma       = gamma_values[rbf_max_index]\n",
        "\n",
        "best_rbf_classifier = SVC(kernel='rbf', gamma = best_gamma)                     # Retrain the model using the best C value on the combined training and validation data\n",
        "best_rbf_classifier.fit(np.concatenate((X_subtrain, X_val)), np.concatenate((y_subtrain, y_val)))\n",
        "y_pred_rbf_test     = best_rbf_classifier.predict(X_test)                       # Make predictions on the test data\n",
        "rbf_accuracy_test   = accuracy_score(y_test, y_pred_rbf_test)                   # Evaluate the accuracy of the classifier on the test set\n",
        "\n",
        "print(\"Best gamma:\"                 , best_gamma       )\n",
        "print(\"Maximum Validation Accuracy:\", rbf_max_accuracy )\n",
        "print(\"Test Accuracy:\"              , rbf_accuracy_test)"
      ]
    },
    {
      "cell_type": "code",
      "execution_count": null,
      "metadata": {
        "colab": {
          "base_uri": "https://localhost:8080/"
        },
        "id": "00rT4NqZpW71",
        "outputId": "18289eae-c247-4cee-cc88-6b91c6de2242"
      },
      "outputs": [
        {
          "output_type": "stream",
          "name": "stdout",
          "text": [
            "----------------RBF Kernel---------------------\n",
            "Best gamma:                  7\n",
            "-----------------------------------------------\n",
            "Maximum Validation Accuracy: 0.9024390243902439\n",
            "Test Accuracy                0.8452722063037249\n",
            "-----------------------------------------------\n",
            "Precision:                   0.8595505617977528\n",
            "Recall:                      0.8406593406593407\n",
            "F1 Score:                    0.8499999999999999\n"
          ]
        }
      ],
      "source": [
        "# Calculate precision, recall, and F1 score\n",
        "rbf_precision = precision_score(y_test, y_pred_rbf_test)\n",
        "rbf_recall    = recall_score   (y_test, y_pred_rbf_test)\n",
        "rbf_f1        = f1_score       (y_test, y_pred_rbf_test)\n",
        "\n",
        "print(\"----------------RBF Kernel---------------------\")\n",
        "print(\"Best gamma:                 \", best_gamma       )\n",
        "print(\"-----------------------------------------------\")\n",
        "print(\"Maximum Validation Accuracy:\", rbf_max_accuracy )\n",
        "print(\"Test Accuracy               \", rbf_accuracy_test)\n",
        "print(\"-----------------------------------------------\")\n",
        "print(\"Precision:                  \", rbf_precision    )\n",
        "print(\"Recall:                     \", rbf_recall       )\n",
        "print(\"F1 Score:                   \", rbf_f1           )"
      ]
    },
    {
      "cell_type": "code",
      "execution_count": null,
      "metadata": {
        "colab": {
          "base_uri": "https://localhost:8080/",
          "height": 472
        },
        "id": "9mpjJgo4pW5C",
        "outputId": "c98b5daa-3d53-4a17-e211-d0e49492183f"
      },
      "outputs": [
        {
          "output_type": "display_data",
          "data": {
            "text/plain": [
              "<Figure size 640x480 with 2 Axes>"
            ],
            "image/png": "[encoded data removed]"
          },
          "metadata": {}
        }
      ],
      "source": [
        "#######################################################################################\n",
        "# This cell contains additional information beyond the scope of the original question.#\n",
        "#######################################################################################\n",
        "CM_RBF=confusion_matrix(y_test,y_pred_rbf_test)\n",
        "sns.heatmap(CM_RBF, annot=True, cmap='binary')\n",
        "plt.xlabel('Predicted'                    )\n",
        "plt.ylabel('Actual'                       )\n",
        "plt.title ('Confusion Matrix - RBF SVM'   )\n",
        "plt.show()"
      ]
    },
    {
      "cell_type": "markdown",
      "metadata": {
        "id": "HOxUElCeX2Hg"
      },
      "source": [
        "### **Polynomial Kernel**"
      ]
    },
    {
      "cell_type": "code",
      "execution_count": null,
      "metadata": {
        "colab": {
          "base_uri": "https://localhost:8080/"
        },
        "id": "f1WcZ0qKpW15",
        "outputId": "eb103128-b186-44d9-f0d1-bde48ef9dc14"
      },
      "outputs": [
        {
          "output_type": "stream",
          "name": "stdout",
          "text": [
            "degree =   1        , poly_accuracy: 0.8658536585365854\n",
            "degree =   3        , poly_accuracy: 0.9146341463414634\n",
            "degree =   5        , poly_accuracy: 0.8902439024390244\n",
            "degree =   7        , poly_accuracy: 0.8902439024390244\n",
            "degree =   9        , poly_accuracy: 0.8536585365853658\n",
            "degree =   11       , poly_accuracy: 0.8536585365853658\n"
          ]
        }
      ],
      "source": [
        "degrees = [1,3,5,7,9,11]                                                        # Declare a range of degrees to find the best one\n",
        "poly_accuracy_list=[]                                                           #empty list\n",
        "\n",
        "for degree in degrees:\n",
        "    poly_classifier = SVC(kernel='poly', degree=degree)                         # Create an SVM classifier with a polynomial kernel\n",
        "    poly_classifier.fit(X_subtrain, y_subtrain)                                 # Train the classifier on the training data\n",
        "    y_pred_poly     = poly_classifier.predict(X_val)                            #Make predictions on thevalidation data\n",
        "    poly_accuracy   = accuracy_score(y_val, y_pred_poly)                        # Evaluate the accuracy of the classifie\n",
        "    poly_accuracy_list.append(poly_accuracy)\n",
        "\n",
        "for i in range (len(degrees)):\n",
        "    print(f\"degree =   {degrees[i]:<8} , poly_accuracy: {poly_accuracy_list[i]}\")"
      ]
    },
    {
      "cell_type": "code",
      "execution_count": null,
      "metadata": {
        "colab": {
          "base_uri": "https://localhost:8080/"
        },
        "id": "wKd7BjqwGgqp",
        "outputId": "1bac778a-6eae-442b-fb8f-4b79cadad2e5"
      },
      "outputs": [
        {
          "output_type": "stream",
          "name": "stdout",
          "text": [
            "Best degree                : 3\n",
            "Maximum Validation Accuracy: 0.9146341463414634\n",
            "Test Accuracy              : 0.828080229226361\n"
          ]
        }
      ],
      "source": [
        "poly_max_accuracy = max(poly_accuracy_list)                                     # Find the maximum accuracy and its corresponding degree\n",
        "poly_max_index = poly_accuracy_list.index(poly_max_accuracy)\n",
        "best_degree =degrees[poly_max_index]\n",
        "\n",
        "best_poly_classifier = SVC(kernel='poly', degree=best_degree)                   # Retrain the model using the best degree on the combined training and validation data\n",
        "best_poly_classifier.fit(np.concatenate((X_subtrain, X_val)), np.concatenate((y_subtrain, y_val)))\n",
        "\n",
        "y_pred_poly_test = best_poly_classifier.predict(X_test)                         # Make predictions on the test data\n",
        "poly_accuracy_test = accuracy_score(y_test, y_pred_poly_test)                   # Evaluate the accuracy of the classifier on the test set\n",
        "\n",
        "print(\"Best degree                :\", best_degree       )\n",
        "print(\"Maximum Validation Accuracy:\", poly_max_accuracy )\n",
        "print(\"Test Accuracy              :\", poly_accuracy_test)"
      ]
    },
    {
      "cell_type": "code",
      "execution_count": null,
      "metadata": {
        "colab": {
          "base_uri": "https://localhost:8080/"
        },
        "id": "mfHdm-61X1yH",
        "outputId": "fc8834d3-6777-4eb1-d27e-5a19848a86bc"
      },
      "outputs": [
        {
          "output_type": "stream",
          "name": "stdout",
          "text": [
            "--------------Polynomial Kernel--------------\n",
            "Best degree:                 3\n",
            "---------------------------------------------\n",
            "Maximum Validation Accuracy: 0.9146341463414634\n",
            "Test Accuracy                0.828080229226361\n",
            "---------------------------------------------\n",
            "Precision:                   0.9295774647887324\n",
            "Recall:                      0.7252747252747253\n",
            "F1 Score:                    0.8148148148148148\n"
          ]
        }
      ],
      "source": [
        "# Calculate precision, recall, and F1 score\n",
        "poly_precision = precision_score(y_test, y_pred_poly_test)\n",
        "poly_recall    = recall_score   (y_test, y_pred_poly_test)\n",
        "poly_f1        = f1_score       (y_test, y_pred_poly_test)\n",
        "\n",
        "print(\"--------------Polynomial Kernel--------------\"   )\n",
        "print(\"Best degree:                \", best_degree       )\n",
        "print(\"---------------------------------------------\"   )\n",
        "print(\"Maximum Validation Accuracy:\", poly_max_accuracy )\n",
        "print(\"Test Accuracy               \", poly_accuracy_test)\n",
        "print(\"---------------------------------------------\"   )\n",
        "print(\"Precision:                  \", poly_precision    )\n",
        "print(\"Recall:                     \", poly_recall       )\n",
        "print(\"F1 Score:                   \", poly_f1           )"
      ]
    },
    {
      "cell_type": "code",
      "execution_count": null,
      "metadata": {
        "colab": {
          "base_uri": "https://localhost:8080/",
          "height": 472
        },
        "id": "F-koJxhVX1vC",
        "outputId": "c4269f33-6483-4a60-f6fd-110b1cc94b62"
      },
      "outputs": [
        {
          "output_type": "display_data",
          "data": {
            "text/plain": [
              "<Figure size 640x480 with 2 Axes>"
            ],
            "image/png": "[encoded data removed]"
          },
          "metadata": {}
        }
      ],
      "source": [
        "#######################################################################################\n",
        "# This cell contains additional information beyond the scope of the original question.#\n",
        "#######################################################################################\n",
        "CM_poly=confusion_matrix(y_test,y_pred_poly_test)\n",
        "sns.heatmap(CM_poly, annot=True, cmap='binary')\n",
        "plt.xlabel('Predicted'                           )\n",
        "plt.ylabel('Actual'                              )\n",
        "plt.title ('Confusion Matrix - Polynomial SVM'   )\n",
        "plt.show()"
      ]
    }
  ],
  "metadata": {
    "colab": {
      "provenance": []
    },
    "kernelspec": {
      "display_name": "Python 3",
      "name": "python3"
    },
    "language_info": {
      "name": "python"
    }
  },
  "nbformat": 4,
  "nbformat_minor": 0
}